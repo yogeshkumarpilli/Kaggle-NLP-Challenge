{
  "nbformat": 4,
  "nbformat_minor": 0,
  "metadata": {
    "colab": {
      "name": "MLDM_XLNET.ipynb",
      "provenance": [],
      "collapsed_sections": []
    },
    "kernelspec": {
      "name": "python3",
      "display_name": "Python 3"
    },
    "accelerator": "GPU",
    "widgets": {
      "application/vnd.jupyter.widget-state+json": {
        "d66f2610450e47e8a8d43e9481852663": {
          "model_module": "@jupyter-widgets/controls",
          "model_name": "HBoxModel",
          "state": {
            "_view_name": "HBoxView",
            "_dom_classes": [],
            "_model_name": "HBoxModel",
            "_view_module": "@jupyter-widgets/controls",
            "_model_module_version": "1.5.0",
            "_view_count": null,
            "_view_module_version": "1.5.0",
            "box_style": "",
            "layout": "IPY_MODEL_0567c7af51974235a6944b59b60eed30",
            "_model_module": "@jupyter-widgets/controls",
            "children": [
              "IPY_MODEL_9027a0775d5945d19420bd00c65d1eec",
              "IPY_MODEL_567460809ca74abb8794181fa5bfd687"
            ]
          }
        },
        "0567c7af51974235a6944b59b60eed30": {
          "model_module": "@jupyter-widgets/base",
          "model_name": "LayoutModel",
          "state": {
            "_view_name": "LayoutView",
            "grid_template_rows": null,
            "right": null,
            "justify_content": null,
            "_view_module": "@jupyter-widgets/base",
            "overflow": null,
            "_model_module_version": "1.2.0",
            "_view_count": null,
            "flex_flow": null,
            "width": null,
            "min_width": null,
            "border": null,
            "align_items": null,
            "bottom": null,
            "_model_module": "@jupyter-widgets/base",
            "top": null,
            "grid_column": null,
            "overflow_y": null,
            "overflow_x": null,
            "grid_auto_flow": null,
            "grid_area": null,
            "grid_template_columns": null,
            "flex": null,
            "_model_name": "LayoutModel",
            "justify_items": null,
            "grid_row": null,
            "max_height": null,
            "align_content": null,
            "visibility": null,
            "align_self": null,
            "height": null,
            "min_height": null,
            "padding": null,
            "grid_auto_rows": null,
            "grid_gap": null,
            "max_width": null,
            "order": null,
            "_view_module_version": "1.2.0",
            "grid_template_areas": null,
            "object_position": null,
            "object_fit": null,
            "grid_auto_columns": null,
            "margin": null,
            "display": null,
            "left": null
          }
        },
        "9027a0775d5945d19420bd00c65d1eec": {
          "model_module": "@jupyter-widgets/controls",
          "model_name": "FloatProgressModel",
          "state": {
            "_view_name": "ProgressView",
            "style": "IPY_MODEL_55a21fa7588948e3b52a0db354afff7a",
            "_dom_classes": [],
            "description": "Downloading: 100%",
            "_model_name": "FloatProgressModel",
            "bar_style": "success",
            "max": 760,
            "_view_module": "@jupyter-widgets/controls",
            "_model_module_version": "1.5.0",
            "value": 760,
            "_view_count": null,
            "_view_module_version": "1.5.0",
            "orientation": "horizontal",
            "min": 0,
            "description_tooltip": null,
            "_model_module": "@jupyter-widgets/controls",
            "layout": "IPY_MODEL_96a3618345dd47f7b9855240e95230b4"
          }
        },
        "567460809ca74abb8794181fa5bfd687": {
          "model_module": "@jupyter-widgets/controls",
          "model_name": "HTMLModel",
          "state": {
            "_view_name": "HTMLView",
            "style": "IPY_MODEL_145f9d57a29f4d0cb09ab17698999fc5",
            "_dom_classes": [],
            "description": "",
            "_model_name": "HTMLModel",
            "placeholder": "​",
            "_view_module": "@jupyter-widgets/controls",
            "_model_module_version": "1.5.0",
            "value": " 760/760 [00:00&lt;00:00, 12.5kB/s]",
            "_view_count": null,
            "_view_module_version": "1.5.0",
            "description_tooltip": null,
            "_model_module": "@jupyter-widgets/controls",
            "layout": "IPY_MODEL_68af9e3e53444d32b09087ccc96c5d9f"
          }
        },
        "55a21fa7588948e3b52a0db354afff7a": {
          "model_module": "@jupyter-widgets/controls",
          "model_name": "ProgressStyleModel",
          "state": {
            "_view_name": "StyleView",
            "_model_name": "ProgressStyleModel",
            "description_width": "initial",
            "_view_module": "@jupyter-widgets/base",
            "_model_module_version": "1.5.0",
            "_view_count": null,
            "_view_module_version": "1.2.0",
            "bar_color": null,
            "_model_module": "@jupyter-widgets/controls"
          }
        },
        "96a3618345dd47f7b9855240e95230b4": {
          "model_module": "@jupyter-widgets/base",
          "model_name": "LayoutModel",
          "state": {
            "_view_name": "LayoutView",
            "grid_template_rows": null,
            "right": null,
            "justify_content": null,
            "_view_module": "@jupyter-widgets/base",
            "overflow": null,
            "_model_module_version": "1.2.0",
            "_view_count": null,
            "flex_flow": null,
            "width": null,
            "min_width": null,
            "border": null,
            "align_items": null,
            "bottom": null,
            "_model_module": "@jupyter-widgets/base",
            "top": null,
            "grid_column": null,
            "overflow_y": null,
            "overflow_x": null,
            "grid_auto_flow": null,
            "grid_area": null,
            "grid_template_columns": null,
            "flex": null,
            "_model_name": "LayoutModel",
            "justify_items": null,
            "grid_row": null,
            "max_height": null,
            "align_content": null,
            "visibility": null,
            "align_self": null,
            "height": null,
            "min_height": null,
            "padding": null,
            "grid_auto_rows": null,
            "grid_gap": null,
            "max_width": null,
            "order": null,
            "_view_module_version": "1.2.0",
            "grid_template_areas": null,
            "object_position": null,
            "object_fit": null,
            "grid_auto_columns": null,
            "margin": null,
            "display": null,
            "left": null
          }
        },
        "145f9d57a29f4d0cb09ab17698999fc5": {
          "model_module": "@jupyter-widgets/controls",
          "model_name": "DescriptionStyleModel",
          "state": {
            "_view_name": "StyleView",
            "_model_name": "DescriptionStyleModel",
            "description_width": "",
            "_view_module": "@jupyter-widgets/base",
            "_model_module_version": "1.5.0",
            "_view_count": null,
            "_view_module_version": "1.2.0",
            "_model_module": "@jupyter-widgets/controls"
          }
        },
        "68af9e3e53444d32b09087ccc96c5d9f": {
          "model_module": "@jupyter-widgets/base",
          "model_name": "LayoutModel",
          "state": {
            "_view_name": "LayoutView",
            "grid_template_rows": null,
            "right": null,
            "justify_content": null,
            "_view_module": "@jupyter-widgets/base",
            "overflow": null,
            "_model_module_version": "1.2.0",
            "_view_count": null,
            "flex_flow": null,
            "width": null,
            "min_width": null,
            "border": null,
            "align_items": null,
            "bottom": null,
            "_model_module": "@jupyter-widgets/base",
            "top": null,
            "grid_column": null,
            "overflow_y": null,
            "overflow_x": null,
            "grid_auto_flow": null,
            "grid_area": null,
            "grid_template_columns": null,
            "flex": null,
            "_model_name": "LayoutModel",
            "justify_items": null,
            "grid_row": null,
            "max_height": null,
            "align_content": null,
            "visibility": null,
            "align_self": null,
            "height": null,
            "min_height": null,
            "padding": null,
            "grid_auto_rows": null,
            "grid_gap": null,
            "max_width": null,
            "order": null,
            "_view_module_version": "1.2.0",
            "grid_template_areas": null,
            "object_position": null,
            "object_fit": null,
            "grid_auto_columns": null,
            "margin": null,
            "display": null,
            "left": null
          }
        },
        "a76b41d311864908b76fb79ba433b17c": {
          "model_module": "@jupyter-widgets/controls",
          "model_name": "HBoxModel",
          "state": {
            "_view_name": "HBoxView",
            "_dom_classes": [],
            "_model_name": "HBoxModel",
            "_view_module": "@jupyter-widgets/controls",
            "_model_module_version": "1.5.0",
            "_view_count": null,
            "_view_module_version": "1.5.0",
            "box_style": "",
            "layout": "IPY_MODEL_83c17f5f7f3c4a4c96daeb2c37eaf255",
            "_model_module": "@jupyter-widgets/controls",
            "children": [
              "IPY_MODEL_51142657c5e9465eaf729d4bfdefa5de",
              "IPY_MODEL_80093fd44fcf4fdf995654ef7d534995"
            ]
          }
        },
        "83c17f5f7f3c4a4c96daeb2c37eaf255": {
          "model_module": "@jupyter-widgets/base",
          "model_name": "LayoutModel",
          "state": {
            "_view_name": "LayoutView",
            "grid_template_rows": null,
            "right": null,
            "justify_content": null,
            "_view_module": "@jupyter-widgets/base",
            "overflow": null,
            "_model_module_version": "1.2.0",
            "_view_count": null,
            "flex_flow": null,
            "width": null,
            "min_width": null,
            "border": null,
            "align_items": null,
            "bottom": null,
            "_model_module": "@jupyter-widgets/base",
            "top": null,
            "grid_column": null,
            "overflow_y": null,
            "overflow_x": null,
            "grid_auto_flow": null,
            "grid_area": null,
            "grid_template_columns": null,
            "flex": null,
            "_model_name": "LayoutModel",
            "justify_items": null,
            "grid_row": null,
            "max_height": null,
            "align_content": null,
            "visibility": null,
            "align_self": null,
            "height": null,
            "min_height": null,
            "padding": null,
            "grid_auto_rows": null,
            "grid_gap": null,
            "max_width": null,
            "order": null,
            "_view_module_version": "1.2.0",
            "grid_template_areas": null,
            "object_position": null,
            "object_fit": null,
            "grid_auto_columns": null,
            "margin": null,
            "display": null,
            "left": null
          }
        },
        "51142657c5e9465eaf729d4bfdefa5de": {
          "model_module": "@jupyter-widgets/controls",
          "model_name": "FloatProgressModel",
          "state": {
            "_view_name": "ProgressView",
            "style": "IPY_MODEL_4df472aff0554039ae4d6db473ee8cfa",
            "_dom_classes": [],
            "description": "Downloading: 100%",
            "_model_name": "FloatProgressModel",
            "bar_style": "success",
            "max": 798011,
            "_view_module": "@jupyter-widgets/controls",
            "_model_module_version": "1.5.0",
            "value": 798011,
            "_view_count": null,
            "_view_module_version": "1.5.0",
            "orientation": "horizontal",
            "min": 0,
            "description_tooltip": null,
            "_model_module": "@jupyter-widgets/controls",
            "layout": "IPY_MODEL_74ec2c8c7432469895b89e40e371b5b0"
          }
        },
        "80093fd44fcf4fdf995654ef7d534995": {
          "model_module": "@jupyter-widgets/controls",
          "model_name": "HTMLModel",
          "state": {
            "_view_name": "HTMLView",
            "style": "IPY_MODEL_d25b727be124423b87f77bd609418254",
            "_dom_classes": [],
            "description": "",
            "_model_name": "HTMLModel",
            "placeholder": "​",
            "_view_module": "@jupyter-widgets/controls",
            "_model_module_version": "1.5.0",
            "value": " 798k/798k [00:07&lt;00:00, 108kB/s]",
            "_view_count": null,
            "_view_module_version": "1.5.0",
            "description_tooltip": null,
            "_model_module": "@jupyter-widgets/controls",
            "layout": "IPY_MODEL_e65dd6e41bd1479bb63b67187c96b80a"
          }
        },
        "4df472aff0554039ae4d6db473ee8cfa": {
          "model_module": "@jupyter-widgets/controls",
          "model_name": "ProgressStyleModel",
          "state": {
            "_view_name": "StyleView",
            "_model_name": "ProgressStyleModel",
            "description_width": "initial",
            "_view_module": "@jupyter-widgets/base",
            "_model_module_version": "1.5.0",
            "_view_count": null,
            "_view_module_version": "1.2.0",
            "bar_color": null,
            "_model_module": "@jupyter-widgets/controls"
          }
        },
        "74ec2c8c7432469895b89e40e371b5b0": {
          "model_module": "@jupyter-widgets/base",
          "model_name": "LayoutModel",
          "state": {
            "_view_name": "LayoutView",
            "grid_template_rows": null,
            "right": null,
            "justify_content": null,
            "_view_module": "@jupyter-widgets/base",
            "overflow": null,
            "_model_module_version": "1.2.0",
            "_view_count": null,
            "flex_flow": null,
            "width": null,
            "min_width": null,
            "border": null,
            "align_items": null,
            "bottom": null,
            "_model_module": "@jupyter-widgets/base",
            "top": null,
            "grid_column": null,
            "overflow_y": null,
            "overflow_x": null,
            "grid_auto_flow": null,
            "grid_area": null,
            "grid_template_columns": null,
            "flex": null,
            "_model_name": "LayoutModel",
            "justify_items": null,
            "grid_row": null,
            "max_height": null,
            "align_content": null,
            "visibility": null,
            "align_self": null,
            "height": null,
            "min_height": null,
            "padding": null,
            "grid_auto_rows": null,
            "grid_gap": null,
            "max_width": null,
            "order": null,
            "_view_module_version": "1.2.0",
            "grid_template_areas": null,
            "object_position": null,
            "object_fit": null,
            "grid_auto_columns": null,
            "margin": null,
            "display": null,
            "left": null
          }
        },
        "d25b727be124423b87f77bd609418254": {
          "model_module": "@jupyter-widgets/controls",
          "model_name": "DescriptionStyleModel",
          "state": {
            "_view_name": "StyleView",
            "_model_name": "DescriptionStyleModel",
            "description_width": "",
            "_view_module": "@jupyter-widgets/base",
            "_model_module_version": "1.5.0",
            "_view_count": null,
            "_view_module_version": "1.2.0",
            "_model_module": "@jupyter-widgets/controls"
          }
        },
        "e65dd6e41bd1479bb63b67187c96b80a": {
          "model_module": "@jupyter-widgets/base",
          "model_name": "LayoutModel",
          "state": {
            "_view_name": "LayoutView",
            "grid_template_rows": null,
            "right": null,
            "justify_content": null,
            "_view_module": "@jupyter-widgets/base",
            "overflow": null,
            "_model_module_version": "1.2.0",
            "_view_count": null,
            "flex_flow": null,
            "width": null,
            "min_width": null,
            "border": null,
            "align_items": null,
            "bottom": null,
            "_model_module": "@jupyter-widgets/base",
            "top": null,
            "grid_column": null,
            "overflow_y": null,
            "overflow_x": null,
            "grid_auto_flow": null,
            "grid_area": null,
            "grid_template_columns": null,
            "flex": null,
            "_model_name": "LayoutModel",
            "justify_items": null,
            "grid_row": null,
            "max_height": null,
            "align_content": null,
            "visibility": null,
            "align_self": null,
            "height": null,
            "min_height": null,
            "padding": null,
            "grid_auto_rows": null,
            "grid_gap": null,
            "max_width": null,
            "order": null,
            "_view_module_version": "1.2.0",
            "grid_template_areas": null,
            "object_position": null,
            "object_fit": null,
            "grid_auto_columns": null,
            "margin": null,
            "display": null,
            "left": null
          }
        },
        "9023f2e177f04f30a584fa84024a96a6": {
          "model_module": "@jupyter-widgets/controls",
          "model_name": "HBoxModel",
          "state": {
            "_view_name": "HBoxView",
            "_dom_classes": [],
            "_model_name": "HBoxModel",
            "_view_module": "@jupyter-widgets/controls",
            "_model_module_version": "1.5.0",
            "_view_count": null,
            "_view_module_version": "1.5.0",
            "box_style": "",
            "layout": "IPY_MODEL_890ccd963b1744efaca30cfeb1e49346",
            "_model_module": "@jupyter-widgets/controls",
            "children": [
              "IPY_MODEL_74fcdb1cc8c54909b4b174744ee498db",
              "IPY_MODEL_3edafdab0d3847a6a1b4e100cb54c561"
            ]
          }
        },
        "890ccd963b1744efaca30cfeb1e49346": {
          "model_module": "@jupyter-widgets/base",
          "model_name": "LayoutModel",
          "state": {
            "_view_name": "LayoutView",
            "grid_template_rows": null,
            "right": null,
            "justify_content": null,
            "_view_module": "@jupyter-widgets/base",
            "overflow": null,
            "_model_module_version": "1.2.0",
            "_view_count": null,
            "flex_flow": null,
            "width": null,
            "min_width": null,
            "border": null,
            "align_items": null,
            "bottom": null,
            "_model_module": "@jupyter-widgets/base",
            "top": null,
            "grid_column": null,
            "overflow_y": null,
            "overflow_x": null,
            "grid_auto_flow": null,
            "grid_area": null,
            "grid_template_columns": null,
            "flex": null,
            "_model_name": "LayoutModel",
            "justify_items": null,
            "grid_row": null,
            "max_height": null,
            "align_content": null,
            "visibility": null,
            "align_self": null,
            "height": null,
            "min_height": null,
            "padding": null,
            "grid_auto_rows": null,
            "grid_gap": null,
            "max_width": null,
            "order": null,
            "_view_module_version": "1.2.0",
            "grid_template_areas": null,
            "object_position": null,
            "object_fit": null,
            "grid_auto_columns": null,
            "margin": null,
            "display": null,
            "left": null
          }
        },
        "74fcdb1cc8c54909b4b174744ee498db": {
          "model_module": "@jupyter-widgets/controls",
          "model_name": "FloatProgressModel",
          "state": {
            "_view_name": "ProgressView",
            "style": "IPY_MODEL_d1ebdb3bcf084ea0ad5b08da8e792376",
            "_dom_classes": [],
            "description": "Downloading: 100%",
            "_model_name": "FloatProgressModel",
            "bar_style": "success",
            "max": 467042463,
            "_view_module": "@jupyter-widgets/controls",
            "_model_module_version": "1.5.0",
            "value": 467042463,
            "_view_count": null,
            "_view_module_version": "1.5.0",
            "orientation": "horizontal",
            "min": 0,
            "description_tooltip": null,
            "_model_module": "@jupyter-widgets/controls",
            "layout": "IPY_MODEL_3a3183a848cf46baaf683a31705afba2"
          }
        },
        "3edafdab0d3847a6a1b4e100cb54c561": {
          "model_module": "@jupyter-widgets/controls",
          "model_name": "HTMLModel",
          "state": {
            "_view_name": "HTMLView",
            "style": "IPY_MODEL_1453c584ebbb4823ac4de9c51e7a5f2c",
            "_dom_classes": [],
            "description": "",
            "_model_name": "HTMLModel",
            "placeholder": "​",
            "_view_module": "@jupyter-widgets/controls",
            "_model_module_version": "1.5.0",
            "value": " 467M/467M [00:07&lt;00:00, 65.8MB/s]",
            "_view_count": null,
            "_view_module_version": "1.5.0",
            "description_tooltip": null,
            "_model_module": "@jupyter-widgets/controls",
            "layout": "IPY_MODEL_7b1b87cf7b0945609a131600fab43642"
          }
        },
        "d1ebdb3bcf084ea0ad5b08da8e792376": {
          "model_module": "@jupyter-widgets/controls",
          "model_name": "ProgressStyleModel",
          "state": {
            "_view_name": "StyleView",
            "_model_name": "ProgressStyleModel",
            "description_width": "initial",
            "_view_module": "@jupyter-widgets/base",
            "_model_module_version": "1.5.0",
            "_view_count": null,
            "_view_module_version": "1.2.0",
            "bar_color": null,
            "_model_module": "@jupyter-widgets/controls"
          }
        },
        "3a3183a848cf46baaf683a31705afba2": {
          "model_module": "@jupyter-widgets/base",
          "model_name": "LayoutModel",
          "state": {
            "_view_name": "LayoutView",
            "grid_template_rows": null,
            "right": null,
            "justify_content": null,
            "_view_module": "@jupyter-widgets/base",
            "overflow": null,
            "_model_module_version": "1.2.0",
            "_view_count": null,
            "flex_flow": null,
            "width": null,
            "min_width": null,
            "border": null,
            "align_items": null,
            "bottom": null,
            "_model_module": "@jupyter-widgets/base",
            "top": null,
            "grid_column": null,
            "overflow_y": null,
            "overflow_x": null,
            "grid_auto_flow": null,
            "grid_area": null,
            "grid_template_columns": null,
            "flex": null,
            "_model_name": "LayoutModel",
            "justify_items": null,
            "grid_row": null,
            "max_height": null,
            "align_content": null,
            "visibility": null,
            "align_self": null,
            "height": null,
            "min_height": null,
            "padding": null,
            "grid_auto_rows": null,
            "grid_gap": null,
            "max_width": null,
            "order": null,
            "_view_module_version": "1.2.0",
            "grid_template_areas": null,
            "object_position": null,
            "object_fit": null,
            "grid_auto_columns": null,
            "margin": null,
            "display": null,
            "left": null
          }
        },
        "1453c584ebbb4823ac4de9c51e7a5f2c": {
          "model_module": "@jupyter-widgets/controls",
          "model_name": "DescriptionStyleModel",
          "state": {
            "_view_name": "StyleView",
            "_model_name": "DescriptionStyleModel",
            "description_width": "",
            "_view_module": "@jupyter-widgets/base",
            "_model_module_version": "1.5.0",
            "_view_count": null,
            "_view_module_version": "1.2.0",
            "_model_module": "@jupyter-widgets/controls"
          }
        },
        "7b1b87cf7b0945609a131600fab43642": {
          "model_module": "@jupyter-widgets/base",
          "model_name": "LayoutModel",
          "state": {
            "_view_name": "LayoutView",
            "grid_template_rows": null,
            "right": null,
            "justify_content": null,
            "_view_module": "@jupyter-widgets/base",
            "overflow": null,
            "_model_module_version": "1.2.0",
            "_view_count": null,
            "flex_flow": null,
            "width": null,
            "min_width": null,
            "border": null,
            "align_items": null,
            "bottom": null,
            "_model_module": "@jupyter-widgets/base",
            "top": null,
            "grid_column": null,
            "overflow_y": null,
            "overflow_x": null,
            "grid_auto_flow": null,
            "grid_area": null,
            "grid_template_columns": null,
            "flex": null,
            "_model_name": "LayoutModel",
            "justify_items": null,
            "grid_row": null,
            "max_height": null,
            "align_content": null,
            "visibility": null,
            "align_self": null,
            "height": null,
            "min_height": null,
            "padding": null,
            "grid_auto_rows": null,
            "grid_gap": null,
            "max_width": null,
            "order": null,
            "_view_module_version": "1.2.0",
            "grid_template_areas": null,
            "object_position": null,
            "object_fit": null,
            "grid_auto_columns": null,
            "margin": null,
            "display": null,
            "left": null
          }
        },
        "ea9bfb04052646f3aae91d018efa589c": {
          "model_module": "@jupyter-widgets/controls",
          "model_name": "HBoxModel",
          "state": {
            "_view_name": "HBoxView",
            "_dom_classes": [],
            "_model_name": "HBoxModel",
            "_view_module": "@jupyter-widgets/controls",
            "_model_module_version": "1.5.0",
            "_view_count": null,
            "_view_module_version": "1.5.0",
            "box_style": "",
            "layout": "IPY_MODEL_355a86adef50423296c1cf168eb37864",
            "_model_module": "@jupyter-widgets/controls",
            "children": [
              "IPY_MODEL_f0811b7c54724840a7717aa9be3bdaad",
              "IPY_MODEL_45b3d4a2ffe847849cdfcf6518cb280d"
            ]
          }
        },
        "355a86adef50423296c1cf168eb37864": {
          "model_module": "@jupyter-widgets/base",
          "model_name": "LayoutModel",
          "state": {
            "_view_name": "LayoutView",
            "grid_template_rows": null,
            "right": null,
            "justify_content": null,
            "_view_module": "@jupyter-widgets/base",
            "overflow": null,
            "_model_module_version": "1.2.0",
            "_view_count": null,
            "flex_flow": null,
            "width": null,
            "min_width": null,
            "border": null,
            "align_items": null,
            "bottom": null,
            "_model_module": "@jupyter-widgets/base",
            "top": null,
            "grid_column": null,
            "overflow_y": null,
            "overflow_x": null,
            "grid_auto_flow": null,
            "grid_area": null,
            "grid_template_columns": null,
            "flex": null,
            "_model_name": "LayoutModel",
            "justify_items": null,
            "grid_row": null,
            "max_height": null,
            "align_content": null,
            "visibility": null,
            "align_self": null,
            "height": null,
            "min_height": null,
            "padding": null,
            "grid_auto_rows": null,
            "grid_gap": null,
            "max_width": null,
            "order": null,
            "_view_module_version": "1.2.0",
            "grid_template_areas": null,
            "object_position": null,
            "object_fit": null,
            "grid_auto_columns": null,
            "margin": null,
            "display": null,
            "left": null
          }
        },
        "f0811b7c54724840a7717aa9be3bdaad": {
          "model_module": "@jupyter-widgets/controls",
          "model_name": "FloatProgressModel",
          "state": {
            "_view_name": "ProgressView",
            "style": "IPY_MODEL_18a5e5d9630d47a6a55f8e8a8c8d2f9f",
            "_dom_classes": [],
            "description": "Epoch:   0%",
            "_model_name": "FloatProgressModel",
            "bar_style": "",
            "max": 1,
            "_view_module": "@jupyter-widgets/controls",
            "_model_module_version": "1.5.0",
            "value": 0,
            "_view_count": null,
            "_view_module_version": "1.5.0",
            "orientation": "horizontal",
            "min": 0,
            "description_tooltip": null,
            "_model_module": "@jupyter-widgets/controls",
            "layout": "IPY_MODEL_df38bdd5e1224c65aa805f1c1b06d9eb"
          }
        },
        "45b3d4a2ffe847849cdfcf6518cb280d": {
          "model_module": "@jupyter-widgets/controls",
          "model_name": "HTMLModel",
          "state": {
            "_view_name": "HTMLView",
            "style": "IPY_MODEL_3b4628714da3487daf776a6a027259c2",
            "_dom_classes": [],
            "description": "",
            "_model_name": "HTMLModel",
            "placeholder": "​",
            "_view_module": "@jupyter-widgets/controls",
            "_model_module_version": "1.5.0",
            "value": " 0/1 [00:00&lt;?, ?it/s]",
            "_view_count": null,
            "_view_module_version": "1.5.0",
            "description_tooltip": null,
            "_model_module": "@jupyter-widgets/controls",
            "layout": "IPY_MODEL_c7fb34f748ef46ceaf207af4d7eec700"
          }
        },
        "18a5e5d9630d47a6a55f8e8a8c8d2f9f": {
          "model_module": "@jupyter-widgets/controls",
          "model_name": "ProgressStyleModel",
          "state": {
            "_view_name": "StyleView",
            "_model_name": "ProgressStyleModel",
            "description_width": "initial",
            "_view_module": "@jupyter-widgets/base",
            "_model_module_version": "1.5.0",
            "_view_count": null,
            "_view_module_version": "1.2.0",
            "bar_color": null,
            "_model_module": "@jupyter-widgets/controls"
          }
        },
        "df38bdd5e1224c65aa805f1c1b06d9eb": {
          "model_module": "@jupyter-widgets/base",
          "model_name": "LayoutModel",
          "state": {
            "_view_name": "LayoutView",
            "grid_template_rows": null,
            "right": null,
            "justify_content": null,
            "_view_module": "@jupyter-widgets/base",
            "overflow": null,
            "_model_module_version": "1.2.0",
            "_view_count": null,
            "flex_flow": null,
            "width": null,
            "min_width": null,
            "border": null,
            "align_items": null,
            "bottom": null,
            "_model_module": "@jupyter-widgets/base",
            "top": null,
            "grid_column": null,
            "overflow_y": null,
            "overflow_x": null,
            "grid_auto_flow": null,
            "grid_area": null,
            "grid_template_columns": null,
            "flex": null,
            "_model_name": "LayoutModel",
            "justify_items": null,
            "grid_row": null,
            "max_height": null,
            "align_content": null,
            "visibility": null,
            "align_self": null,
            "height": null,
            "min_height": null,
            "padding": null,
            "grid_auto_rows": null,
            "grid_gap": null,
            "max_width": null,
            "order": null,
            "_view_module_version": "1.2.0",
            "grid_template_areas": null,
            "object_position": null,
            "object_fit": null,
            "grid_auto_columns": null,
            "margin": null,
            "display": null,
            "left": null
          }
        },
        "3b4628714da3487daf776a6a027259c2": {
          "model_module": "@jupyter-widgets/controls",
          "model_name": "DescriptionStyleModel",
          "state": {
            "_view_name": "StyleView",
            "_model_name": "DescriptionStyleModel",
            "description_width": "",
            "_view_module": "@jupyter-widgets/base",
            "_model_module_version": "1.5.0",
            "_view_count": null,
            "_view_module_version": "1.2.0",
            "_model_module": "@jupyter-widgets/controls"
          }
        },
        "c7fb34f748ef46ceaf207af4d7eec700": {
          "model_module": "@jupyter-widgets/base",
          "model_name": "LayoutModel",
          "state": {
            "_view_name": "LayoutView",
            "grid_template_rows": null,
            "right": null,
            "justify_content": null,
            "_view_module": "@jupyter-widgets/base",
            "overflow": null,
            "_model_module_version": "1.2.0",
            "_view_count": null,
            "flex_flow": null,
            "width": null,
            "min_width": null,
            "border": null,
            "align_items": null,
            "bottom": null,
            "_model_module": "@jupyter-widgets/base",
            "top": null,
            "grid_column": null,
            "overflow_y": null,
            "overflow_x": null,
            "grid_auto_flow": null,
            "grid_area": null,
            "grid_template_columns": null,
            "flex": null,
            "_model_name": "LayoutModel",
            "justify_items": null,
            "grid_row": null,
            "max_height": null,
            "align_content": null,
            "visibility": null,
            "align_self": null,
            "height": null,
            "min_height": null,
            "padding": null,
            "grid_auto_rows": null,
            "grid_gap": null,
            "max_width": null,
            "order": null,
            "_view_module_version": "1.2.0",
            "grid_template_areas": null,
            "object_position": null,
            "object_fit": null,
            "grid_auto_columns": null,
            "margin": null,
            "display": null,
            "left": null
          }
        },
        "7729ff3c7bda480db7cb62674f780a59": {
          "model_module": "@jupyter-widgets/controls",
          "model_name": "HBoxModel",
          "state": {
            "_view_name": "HBoxView",
            "_dom_classes": [],
            "_model_name": "HBoxModel",
            "_view_module": "@jupyter-widgets/controls",
            "_model_module_version": "1.5.0",
            "_view_count": null,
            "_view_module_version": "1.5.0",
            "box_style": "",
            "layout": "IPY_MODEL_6624ab2911264fe7937ae74f68948915",
            "_model_module": "@jupyter-widgets/controls",
            "children": [
              "IPY_MODEL_279e99e853d247ef9b0a0caaf7c8a8a1",
              "IPY_MODEL_6cb898b625c24899a88fbf491ab933bf"
            ]
          }
        },
        "6624ab2911264fe7937ae74f68948915": {
          "model_module": "@jupyter-widgets/base",
          "model_name": "LayoutModel",
          "state": {
            "_view_name": "LayoutView",
            "grid_template_rows": null,
            "right": null,
            "justify_content": null,
            "_view_module": "@jupyter-widgets/base",
            "overflow": null,
            "_model_module_version": "1.2.0",
            "_view_count": null,
            "flex_flow": null,
            "width": null,
            "min_width": null,
            "border": null,
            "align_items": null,
            "bottom": null,
            "_model_module": "@jupyter-widgets/base",
            "top": null,
            "grid_column": null,
            "overflow_y": null,
            "overflow_x": null,
            "grid_auto_flow": null,
            "grid_area": null,
            "grid_template_columns": null,
            "flex": null,
            "_model_name": "LayoutModel",
            "justify_items": null,
            "grid_row": null,
            "max_height": null,
            "align_content": null,
            "visibility": null,
            "align_self": null,
            "height": null,
            "min_height": null,
            "padding": null,
            "grid_auto_rows": null,
            "grid_gap": null,
            "max_width": null,
            "order": null,
            "_view_module_version": "1.2.0",
            "grid_template_areas": null,
            "object_position": null,
            "object_fit": null,
            "grid_auto_columns": null,
            "margin": null,
            "display": null,
            "left": null
          }
        },
        "279e99e853d247ef9b0a0caaf7c8a8a1": {
          "model_module": "@jupyter-widgets/controls",
          "model_name": "FloatProgressModel",
          "state": {
            "_view_name": "ProgressView",
            "style": "IPY_MODEL_84c0779e32234294a516d5cc422f45b5",
            "_dom_classes": [],
            "description": "Iteration:   0%",
            "_model_name": "FloatProgressModel",
            "bar_style": "",
            "max": 22500,
            "_view_module": "@jupyter-widgets/controls",
            "_model_module_version": "1.5.0",
            "value": 15,
            "_view_count": null,
            "_view_module_version": "1.5.0",
            "orientation": "horizontal",
            "min": 0,
            "description_tooltip": null,
            "_model_module": "@jupyter-widgets/controls",
            "layout": "IPY_MODEL_b147493d163d44f3b2ab57b8bc25f0c5"
          }
        },
        "6cb898b625c24899a88fbf491ab933bf": {
          "model_module": "@jupyter-widgets/controls",
          "model_name": "HTMLModel",
          "state": {
            "_view_name": "HTMLView",
            "style": "IPY_MODEL_971032e4761a4f2496e92569d0d2757f",
            "_dom_classes": [],
            "description": "",
            "_model_name": "HTMLModel",
            "placeholder": "​",
            "_view_module": "@jupyter-widgets/controls",
            "_model_module_version": "1.5.0",
            "value": " 15/22500 [00:08&lt;3:31:08,  1.77it/s]",
            "_view_count": null,
            "_view_module_version": "1.5.0",
            "description_tooltip": null,
            "_model_module": "@jupyter-widgets/controls",
            "layout": "IPY_MODEL_11aeb29071194b8cbdbc970cdcba8ad5"
          }
        },
        "84c0779e32234294a516d5cc422f45b5": {
          "model_module": "@jupyter-widgets/controls",
          "model_name": "ProgressStyleModel",
          "state": {
            "_view_name": "StyleView",
            "_model_name": "ProgressStyleModel",
            "description_width": "initial",
            "_view_module": "@jupyter-widgets/base",
            "_model_module_version": "1.5.0",
            "_view_count": null,
            "_view_module_version": "1.2.0",
            "bar_color": null,
            "_model_module": "@jupyter-widgets/controls"
          }
        },
        "b147493d163d44f3b2ab57b8bc25f0c5": {
          "model_module": "@jupyter-widgets/base",
          "model_name": "LayoutModel",
          "state": {
            "_view_name": "LayoutView",
            "grid_template_rows": null,
            "right": null,
            "justify_content": null,
            "_view_module": "@jupyter-widgets/base",
            "overflow": null,
            "_model_module_version": "1.2.0",
            "_view_count": null,
            "flex_flow": null,
            "width": null,
            "min_width": null,
            "border": null,
            "align_items": null,
            "bottom": null,
            "_model_module": "@jupyter-widgets/base",
            "top": null,
            "grid_column": null,
            "overflow_y": null,
            "overflow_x": null,
            "grid_auto_flow": null,
            "grid_area": null,
            "grid_template_columns": null,
            "flex": null,
            "_model_name": "LayoutModel",
            "justify_items": null,
            "grid_row": null,
            "max_height": null,
            "align_content": null,
            "visibility": null,
            "align_self": null,
            "height": null,
            "min_height": null,
            "padding": null,
            "grid_auto_rows": null,
            "grid_gap": null,
            "max_width": null,
            "order": null,
            "_view_module_version": "1.2.0",
            "grid_template_areas": null,
            "object_position": null,
            "object_fit": null,
            "grid_auto_columns": null,
            "margin": null,
            "display": null,
            "left": null
          }
        },
        "971032e4761a4f2496e92569d0d2757f": {
          "model_module": "@jupyter-widgets/controls",
          "model_name": "DescriptionStyleModel",
          "state": {
            "_view_name": "StyleView",
            "_model_name": "DescriptionStyleModel",
            "description_width": "",
            "_view_module": "@jupyter-widgets/base",
            "_model_module_version": "1.5.0",
            "_view_count": null,
            "_view_module_version": "1.2.0",
            "_model_module": "@jupyter-widgets/controls"
          }
        },
        "11aeb29071194b8cbdbc970cdcba8ad5": {
          "model_module": "@jupyter-widgets/base",
          "model_name": "LayoutModel",
          "state": {
            "_view_name": "LayoutView",
            "grid_template_rows": null,
            "right": null,
            "justify_content": null,
            "_view_module": "@jupyter-widgets/base",
            "overflow": null,
            "_model_module_version": "1.2.0",
            "_view_count": null,
            "flex_flow": null,
            "width": null,
            "min_width": null,
            "border": null,
            "align_items": null,
            "bottom": null,
            "_model_module": "@jupyter-widgets/base",
            "top": null,
            "grid_column": null,
            "overflow_y": null,
            "overflow_x": null,
            "grid_auto_flow": null,
            "grid_area": null,
            "grid_template_columns": null,
            "flex": null,
            "_model_name": "LayoutModel",
            "justify_items": null,
            "grid_row": null,
            "max_height": null,
            "align_content": null,
            "visibility": null,
            "align_self": null,
            "height": null,
            "min_height": null,
            "padding": null,
            "grid_auto_rows": null,
            "grid_gap": null,
            "max_width": null,
            "order": null,
            "_view_module_version": "1.2.0",
            "grid_template_areas": null,
            "object_position": null,
            "object_fit": null,
            "grid_auto_columns": null,
            "margin": null,
            "display": null,
            "left": null
          }
        }
      }
    }
  },
  "cells": [
    {
      "cell_type": "code",
      "metadata": {
        "colab": {
          "base_uri": "https://localhost:8080/",
          "height": 36
        },
        "id": "ZFuxy6yLDd1J",
        "outputId": "a544cf2b-30e4-4a6a-bd2c-c40888012022"
      },
      "source": [
        "%pwd"
      ],
      "execution_count": null,
      "outputs": [
        {
          "output_type": "execute_result",
          "data": {
            "application/vnd.google.colaboratory.intrinsic+json": {
              "type": "string"
            },
            "text/plain": [
              "'/content'"
            ]
          },
          "metadata": {
            "tags": []
          },
          "execution_count": 2
        }
      ]
    },
    {
      "cell_type": "code",
      "metadata": {
        "colab": {
          "base_uri": "https://localhost:8080/"
        },
        "id": "UOgaDtuaLtfn",
        "outputId": "52e58a67-b35a-4188-9022-d08298e242dd"
      },
      "source": [
        "from google.colab import drive\n",
        "drive.mount('/content/drive')"
      ],
      "execution_count": null,
      "outputs": [
        {
          "output_type": "stream",
          "text": [
            "Drive already mounted at /content/drive; to attempt to forcibly remount, call drive.mount(\"/content/drive\", force_remount=True).\n"
          ],
          "name": "stdout"
        }
      ]
    },
    {
      "cell_type": "code",
      "metadata": {
        "colab": {
          "base_uri": "https://localhost:8080/"
        },
        "id": "gxAkXurO4ed2",
        "outputId": "60516e78-2aaa-4e57-b2a4-e06c46fe9631"
      },
      "source": [
        "!pip install transformers[sentencepiece]"
      ],
      "execution_count": null,
      "outputs": [
        {
          "output_type": "stream",
          "text": [
            "Collecting transformers[sentencepiece]\n",
            "\u001b[?25l  Downloading https://files.pythonhosted.org/packages/50/0c/7d5950fcd80b029be0a8891727ba21e0cd27692c407c51261c3c921f6da3/transformers-4.1.1-py3-none-any.whl (1.5MB)\n",
            "\u001b[K     |████████████████████████████████| 1.5MB 17.2MB/s \n",
            "\u001b[?25hRequirement already satisfied: dataclasses; python_version < \"3.7\" in /usr/local/lib/python3.6/dist-packages (from transformers[sentencepiece]) (0.8)\n",
            "Requirement already satisfied: tqdm>=4.27 in /usr/local/lib/python3.6/dist-packages (from transformers[sentencepiece]) (4.41.1)\n",
            "Collecting sacremoses\n",
            "\u001b[?25l  Downloading https://files.pythonhosted.org/packages/7d/34/09d19aff26edcc8eb2a01bed8e98f13a1537005d31e95233fd48216eed10/sacremoses-0.0.43.tar.gz (883kB)\n",
            "\u001b[K     |████████████████████████████████| 890kB 52.8MB/s \n",
            "\u001b[?25hCollecting tokenizers==0.9.4\n",
            "\u001b[?25l  Downloading https://files.pythonhosted.org/packages/0f/1c/e789a8b12e28be5bc1ce2156cf87cb522b379be9cadc7ad8091a4cc107c4/tokenizers-0.9.4-cp36-cp36m-manylinux2010_x86_64.whl (2.9MB)\n",
            "\u001b[K     |████████████████████████████████| 2.9MB 51.9MB/s \n",
            "\u001b[?25hRequirement already satisfied: requests in /usr/local/lib/python3.6/dist-packages (from transformers[sentencepiece]) (2.23.0)\n",
            "Requirement already satisfied: numpy in /usr/local/lib/python3.6/dist-packages (from transformers[sentencepiece]) (1.19.4)\n",
            "Requirement already satisfied: packaging in /usr/local/lib/python3.6/dist-packages (from transformers[sentencepiece]) (20.8)\n",
            "Requirement already satisfied: regex!=2019.12.17 in /usr/local/lib/python3.6/dist-packages (from transformers[sentencepiece]) (2019.12.20)\n",
            "Requirement already satisfied: filelock in /usr/local/lib/python3.6/dist-packages (from transformers[sentencepiece]) (3.0.12)\n",
            "Requirement already satisfied: protobuf; extra == \"sentencepiece\" in /usr/local/lib/python3.6/dist-packages (from transformers[sentencepiece]) (3.12.4)\n",
            "Collecting sentencepiece==0.1.91; extra == \"sentencepiece\"\n",
            "\u001b[?25l  Downloading https://files.pythonhosted.org/packages/d4/a4/d0a884c4300004a78cca907a6ff9a5e9fe4f090f5d95ab341c53d28cbc58/sentencepiece-0.1.91-cp36-cp36m-manylinux1_x86_64.whl (1.1MB)\n",
            "\u001b[K     |████████████████████████████████| 1.1MB 52.4MB/s \n",
            "\u001b[?25hRequirement already satisfied: six in /usr/local/lib/python3.6/dist-packages (from sacremoses->transformers[sentencepiece]) (1.15.0)\n",
            "Requirement already satisfied: click in /usr/local/lib/python3.6/dist-packages (from sacremoses->transformers[sentencepiece]) (7.1.2)\n",
            "Requirement already satisfied: joblib in /usr/local/lib/python3.6/dist-packages (from sacremoses->transformers[sentencepiece]) (1.0.0)\n",
            "Requirement already satisfied: urllib3!=1.25.0,!=1.25.1,<1.26,>=1.21.1 in /usr/local/lib/python3.6/dist-packages (from requests->transformers[sentencepiece]) (1.24.3)\n",
            "Requirement already satisfied: certifi>=2017.4.17 in /usr/local/lib/python3.6/dist-packages (from requests->transformers[sentencepiece]) (2020.12.5)\n",
            "Requirement already satisfied: chardet<4,>=3.0.2 in /usr/local/lib/python3.6/dist-packages (from requests->transformers[sentencepiece]) (3.0.4)\n",
            "Requirement already satisfied: idna<3,>=2.5 in /usr/local/lib/python3.6/dist-packages (from requests->transformers[sentencepiece]) (2.10)\n",
            "Requirement already satisfied: pyparsing>=2.0.2 in /usr/local/lib/python3.6/dist-packages (from packaging->transformers[sentencepiece]) (2.4.7)\n",
            "Requirement already satisfied: setuptools in /usr/local/lib/python3.6/dist-packages (from protobuf; extra == \"sentencepiece\"->transformers[sentencepiece]) (51.0.0)\n",
            "Building wheels for collected packages: sacremoses\n",
            "  Building wheel for sacremoses (setup.py) ... \u001b[?25l\u001b[?25hdone\n",
            "  Created wheel for sacremoses: filename=sacremoses-0.0.43-cp36-none-any.whl size=893261 sha256=019b7fbe3860bca3aa2686993bc0c92514acd43e7aa77d77cdc62a0fc7eaef58\n",
            "  Stored in directory: /root/.cache/pip/wheels/29/3c/fd/7ce5c3f0666dab31a50123635e6fb5e19ceb42ce38d4e58f45\n",
            "Successfully built sacremoses\n",
            "Installing collected packages: sacremoses, tokenizers, sentencepiece, transformers\n",
            "Successfully installed sacremoses-0.0.43 sentencepiece-0.1.91 tokenizers-0.9.4 transformers-4.1.1\n"
          ],
          "name": "stdout"
        }
      ]
    },
    {
      "cell_type": "code",
      "metadata": {
        "id": "969WOYVB4sMG"
      },
      "source": [
        "import csv\r\n",
        "import os\r\n",
        "import random\r\n",
        "from pathlib import Path\r\n",
        "import numpy as np\r\n",
        "import pandas as pd\r\n",
        "import torch\r\n",
        "from torch.utils.data import (DataLoader, RandomSampler, SequentialSampler,\r\n",
        "                              TensorDataset)\r\n",
        "from torch.utils.data.distributed import DistributedSampler\r\n",
        "from transformers import XLNetConfig, XLNetForSequenceClassification, XLNetTokenizer\r\n",
        "from transformers import AdamW, get_linear_schedule_with_warmup\r\n",
        "from tqdm import tqdm, trange, tqdm_notebook\r\n",
        "from sklearn.metrics import matthews_corrcoef, f1_score\r\n",
        "from sklearn.model_selection import train_test_split\r\n",
        "from keras.utils import to_categorical"
      ],
      "execution_count": null,
      "outputs": []
    },
    {
      "cell_type": "code",
      "metadata": {
        "colab": {
          "base_uri": "https://localhost:8080/",
          "height": 206
        },
        "id": "Q1QTMaFx40y0",
        "outputId": "453ceda1-7197-4f94-a9b1-1ebcd6237170"
      },
      "source": [
        "dataset = pd.read_csv(\"/content/drive/MyDrive/MachineLearningProject/Preprocessed_cleanedData_Train.csv\")\r\n",
        "dataset.head()"
      ],
      "execution_count": null,
      "outputs": [
        {
          "output_type": "execute_result",
          "data": {
            "text/html": [
              "<div>\n",
              "<style scoped>\n",
              "    .dataframe tbody tr th:only-of-type {\n",
              "        vertical-align: middle;\n",
              "    }\n",
              "\n",
              "    .dataframe tbody tr th {\n",
              "        vertical-align: top;\n",
              "    }\n",
              "\n",
              "    .dataframe thead th {\n",
              "        text-align: right;\n",
              "    }\n",
              "</style>\n",
              "<table border=\"1\" class=\"dataframe\">\n",
              "  <thead>\n",
              "    <tr style=\"text-align: right;\">\n",
              "      <th></th>\n",
              "      <th>Id</th>\n",
              "      <th>gender</th>\n",
              "      <th>Category</th>\n",
              "      <th>jobtitle</th>\n",
              "      <th>cleaned_Data</th>\n",
              "    </tr>\n",
              "  </thead>\n",
              "  <tbody>\n",
              "    <tr>\n",
              "      <th>0</th>\n",
              "      <td>0</td>\n",
              "      <td>F</td>\n",
              "      <td>19</td>\n",
              "      <td>professor</td>\n",
              "      <td>also ronald asmus policy entrepreneur fellow g...</td>\n",
              "    </tr>\n",
              "    <tr>\n",
              "      <th>1</th>\n",
              "      <td>1</td>\n",
              "      <td>M</td>\n",
              "      <td>9</td>\n",
              "      <td>accountant</td>\n",
              "      <td>member aicpa wicpa brent graduated university ...</td>\n",
              "    </tr>\n",
              "    <tr>\n",
              "      <th>2</th>\n",
              "      <td>2</td>\n",
              "      <td>M</td>\n",
              "      <td>19</td>\n",
              "      <td>professor</td>\n",
              "      <td>dr aster held teaching research positions ben ...</td>\n",
              "    </tr>\n",
              "    <tr>\n",
              "      <th>3</th>\n",
              "      <td>3</td>\n",
              "      <td>M</td>\n",
              "      <td>24</td>\n",
              "      <td>architect</td>\n",
              "      <td>runs boutique design studio attending clients ...</td>\n",
              "    </tr>\n",
              "    <tr>\n",
              "      <th>4</th>\n",
              "      <td>4</td>\n",
              "      <td>M</td>\n",
              "      <td>24</td>\n",
              "      <td>architect</td>\n",
              "      <td>focuses cloud security identity access managem...</td>\n",
              "    </tr>\n",
              "  </tbody>\n",
              "</table>\n",
              "</div>"
            ],
            "text/plain": [
              "   Id gender  ...    jobtitle                                       cleaned_Data\n",
              "0   0      F  ...   professor  also ronald asmus policy entrepreneur fellow g...\n",
              "1   1      M  ...  accountant  member aicpa wicpa brent graduated university ...\n",
              "2   2      M  ...   professor  dr aster held teaching research positions ben ...\n",
              "3   3      M  ...   architect  runs boutique design studio attending clients ...\n",
              "4   4      M  ...   architect  focuses cloud security identity access managem...\n",
              "\n",
              "[5 rows x 5 columns]"
            ]
          },
          "metadata": {
            "tags": []
          },
          "execution_count": 6
        }
      ]
    },
    {
      "cell_type": "code",
      "metadata": {
        "colab": {
          "base_uri": "https://localhost:8080/"
        },
        "id": "tSXOEhKIDQyF",
        "outputId": "86d85af6-2849-43e8-8d5e-30e925290402"
      },
      "source": [
        "dataset.shape"
      ],
      "execution_count": null,
      "outputs": [
        {
          "output_type": "execute_result",
          "data": {
            "text/plain": [
              "(217197, 5)"
            ]
          },
          "metadata": {
            "tags": []
          },
          "execution_count": 7
        }
      ]
    },
    {
      "cell_type": "code",
      "metadata": {
        "colab": {
          "base_uri": "https://localhost:8080/"
        },
        "id": "KLml6vnVDKDG",
        "outputId": "f8074990-2d31-4f9d-ffad-89bb0dfd5cd1"
      },
      "source": [
        "df_mislabeled = dataset.groupby(['cleaned_Data']).nunique().sort_values(by='Category', ascending=False)\r\n",
        "df_mislabeled = df_mislabeled[df_mislabeled['Category'] > 1]['Category']\r\n",
        "df_mislabeled = df_mislabeled.index.tolist()\r\n",
        "\r\n",
        "\r\n",
        "drop_dup_rows = dataset['cleaned_Data'].isin(df_mislabeled).values\r\n",
        "dataset = dataset[~drop_dup_rows]\r\n",
        "dataset.shape"
      ],
      "execution_count": null,
      "outputs": [
        {
          "output_type": "execute_result",
          "data": {
            "text/plain": [
              "(217170, 5)"
            ]
          },
          "metadata": {
            "tags": []
          },
          "execution_count": 8
        }
      ]
    },
    {
      "cell_type": "code",
      "metadata": {
        "colab": {
          "base_uri": "https://localhost:8080/",
          "height": 206
        },
        "id": "QHUUX2Uk7JqK",
        "outputId": "62c7731d-88c8-457c-9fe2-28cc31e6a6bc"
      },
      "source": [
        "dataset.tail()"
      ],
      "execution_count": null,
      "outputs": [
        {
          "output_type": "execute_result",
          "data": {
            "text/html": [
              "<div>\n",
              "<style scoped>\n",
              "    .dataframe tbody tr th:only-of-type {\n",
              "        vertical-align: middle;\n",
              "    }\n",
              "\n",
              "    .dataframe tbody tr th {\n",
              "        vertical-align: top;\n",
              "    }\n",
              "\n",
              "    .dataframe thead th {\n",
              "        text-align: right;\n",
              "    }\n",
              "</style>\n",
              "<table border=\"1\" class=\"dataframe\">\n",
              "  <thead>\n",
              "    <tr style=\"text-align: right;\">\n",
              "      <th></th>\n",
              "      <th>Id</th>\n",
              "      <th>gender</th>\n",
              "      <th>Category</th>\n",
              "      <th>jobtitle</th>\n",
              "      <th>cleaned_Data</th>\n",
              "    </tr>\n",
              "  </thead>\n",
              "  <tbody>\n",
              "    <tr>\n",
              "      <th>217192</th>\n",
              "      <td>217192</td>\n",
              "      <td>M</td>\n",
              "      <td>19</td>\n",
              "      <td>professor</td>\n",
              "      <td>member uwa cultural collections board gary chi...</td>\n",
              "    </tr>\n",
              "    <tr>\n",
              "      <th>217193</th>\n",
              "      <td>217193</td>\n",
              "      <td>F</td>\n",
              "      <td>22</td>\n",
              "      <td>psychologist</td>\n",
              "      <td>kelly worked globally leading teams consultant...</td>\n",
              "    </tr>\n",
              "    <tr>\n",
              "      <th>217194</th>\n",
              "      <td>217194</td>\n",
              "      <td>M</td>\n",
              "      <td>19</td>\n",
              "      <td>professor</td>\n",
              "      <td>hes lead author recent study found hospitaliza...</td>\n",
              "    </tr>\n",
              "    <tr>\n",
              "      <th>217195</th>\n",
              "      <td>217195</td>\n",
              "      <td>F</td>\n",
              "      <td>19</td>\n",
              "      <td>professor</td>\n",
              "      <td>specializes theoretical pedagogical foundation...</td>\n",
              "    </tr>\n",
              "    <tr>\n",
              "      <th>217196</th>\n",
              "      <td>217196</td>\n",
              "      <td>F</td>\n",
              "      <td>1</td>\n",
              "      <td>model</td>\n",
              "      <td>since 10 years old become model later started ...</td>\n",
              "    </tr>\n",
              "  </tbody>\n",
              "</table>\n",
              "</div>"
            ],
            "text/plain": [
              "            Id  ...                                       cleaned_Data\n",
              "217192  217192  ...  member uwa cultural collections board gary chi...\n",
              "217193  217193  ...  kelly worked globally leading teams consultant...\n",
              "217194  217194  ...  hes lead author recent study found hospitaliza...\n",
              "217195  217195  ...  specializes theoretical pedagogical foundation...\n",
              "217196  217196  ...  since 10 years old become model later started ...\n",
              "\n",
              "[5 rows x 5 columns]"
            ]
          },
          "metadata": {
            "tags": []
          },
          "execution_count": 9
        }
      ]
    },
    {
      "cell_type": "code",
      "metadata": {
        "colab": {
          "base_uri": "https://localhost:8080/"
        },
        "id": "foIYa-4b0fZR",
        "outputId": "44104a16-6ef3-4e46-b5d0-79225a10973c"
      },
      "source": [
        "dataset.shape"
      ],
      "execution_count": null,
      "outputs": [
        {
          "output_type": "execute_result",
          "data": {
            "text/plain": [
              "(217170, 5)"
            ]
          },
          "metadata": {
            "tags": []
          },
          "execution_count": 10
        }
      ]
    },
    {
      "cell_type": "code",
      "metadata": {
        "colab": {
          "base_uri": "https://localhost:8080/"
        },
        "id": "G80_57J_0lPl",
        "outputId": "6066de31-0bb7-4dc6-9062-294bf8554f27"
      },
      "source": [
        "dataset.dropna(inplace=True)\r\n",
        "dataset.shape"
      ],
      "execution_count": null,
      "outputs": [
        {
          "output_type": "execute_result",
          "data": {
            "text/plain": [
              "(217170, 5)"
            ]
          },
          "metadata": {
            "tags": []
          },
          "execution_count": 11
        }
      ]
    },
    {
      "cell_type": "code",
      "metadata": {
        "id": "2qZNhwNu8FMD"
      },
      "source": [
        "dataset = dataset[['cleaned_Data','Category']]"
      ],
      "execution_count": null,
      "outputs": []
    },
    {
      "cell_type": "code",
      "metadata": {
        "colab": {
          "base_uri": "https://localhost:8080/",
          "height": 206
        },
        "id": "d3hm1XkU8PLu",
        "outputId": "56d31db3-8880-4eec-afd2-6e776b3a45e8"
      },
      "source": [
        "dataset.tail()"
      ],
      "execution_count": null,
      "outputs": [
        {
          "output_type": "execute_result",
          "data": {
            "text/html": [
              "<div>\n",
              "<style scoped>\n",
              "    .dataframe tbody tr th:only-of-type {\n",
              "        vertical-align: middle;\n",
              "    }\n",
              "\n",
              "    .dataframe tbody tr th {\n",
              "        vertical-align: top;\n",
              "    }\n",
              "\n",
              "    .dataframe thead th {\n",
              "        text-align: right;\n",
              "    }\n",
              "</style>\n",
              "<table border=\"1\" class=\"dataframe\">\n",
              "  <thead>\n",
              "    <tr style=\"text-align: right;\">\n",
              "      <th></th>\n",
              "      <th>cleaned_Data</th>\n",
              "      <th>Category</th>\n",
              "    </tr>\n",
              "  </thead>\n",
              "  <tbody>\n",
              "    <tr>\n",
              "      <th>217192</th>\n",
              "      <td>member uwa cultural collections board gary chi...</td>\n",
              "      <td>19</td>\n",
              "    </tr>\n",
              "    <tr>\n",
              "      <th>217193</th>\n",
              "      <td>kelly worked globally leading teams consultant...</td>\n",
              "      <td>22</td>\n",
              "    </tr>\n",
              "    <tr>\n",
              "      <th>217194</th>\n",
              "      <td>hes lead author recent study found hospitaliza...</td>\n",
              "      <td>19</td>\n",
              "    </tr>\n",
              "    <tr>\n",
              "      <th>217195</th>\n",
              "      <td>specializes theoretical pedagogical foundation...</td>\n",
              "      <td>19</td>\n",
              "    </tr>\n",
              "    <tr>\n",
              "      <th>217196</th>\n",
              "      <td>since 10 years old become model later started ...</td>\n",
              "      <td>1</td>\n",
              "    </tr>\n",
              "  </tbody>\n",
              "</table>\n",
              "</div>"
            ],
            "text/plain": [
              "                                             cleaned_Data  Category\n",
              "217192  member uwa cultural collections board gary chi...        19\n",
              "217193  kelly worked globally leading teams consultant...        22\n",
              "217194  hes lead author recent study found hospitaliza...        19\n",
              "217195  specializes theoretical pedagogical foundation...        19\n",
              "217196  since 10 years old become model later started ...         1"
            ]
          },
          "metadata": {
            "tags": []
          },
          "execution_count": 13
        }
      ]
    },
    {
      "cell_type": "code",
      "metadata": {
        "colab": {
          "base_uri": "https://localhost:8080/"
        },
        "id": "hCprkicF9oWg",
        "outputId": "83fb23de-c8b4-46bf-9541-e7b758833f33"
      },
      "source": [
        "dataset.shape"
      ],
      "execution_count": null,
      "outputs": [
        {
          "output_type": "execute_result",
          "data": {
            "text/plain": [
              "(217170, 2)"
            ]
          },
          "metadata": {
            "tags": []
          },
          "execution_count": 14
        }
      ]
    },
    {
      "cell_type": "code",
      "metadata": {
        "colab": {
          "base_uri": "https://localhost:8080/"
        },
        "id": "aaAxqOQe9iZ-",
        "outputId": "e88910b7-0ae5-418f-cf7c-00a906518a5a"
      },
      "source": [
        "train_df = dataset.iloc[:180000]\r\n",
        "val_df = dataset.iloc[180000:]\r\n",
        "\r\n",
        "train_df.shape, val_df.shape"
      ],
      "execution_count": null,
      "outputs": [
        {
          "output_type": "execute_result",
          "data": {
            "text/plain": [
              "((180000, 2), (37170, 2))"
            ]
          },
          "metadata": {
            "tags": []
          },
          "execution_count": 15
        }
      ]
    },
    {
      "cell_type": "code",
      "metadata": {
        "id": "nBYKVQtm7qQx"
      },
      "source": [
        "save_dir = Path('/content/drive/MyDrive/MachineLearningProject/XLNET_RESULTS')\r\n",
        "train_df.to_csv(str(save_dir / \"train.csv\"), index=False)\r\n",
        "val_df.to_csv(str(save_dir / \"dev.csv\"), index=False)"
      ],
      "execution_count": null,
      "outputs": []
    },
    {
      "cell_type": "code",
      "metadata": {
        "id": "sGZz9CDp6Nmq"
      },
      "source": [
        "class InputExample(object):\r\n",
        "    \"\"\"A single training/test example for simple sequence classification.\"\"\"\r\n",
        "\r\n",
        "    def __init__(self, guid, text_a, text_b=None, label=None):\r\n",
        "        \"\"\"Constructs a InputExample.\r\n",
        "        Args:\r\n",
        "            guid: Unique id for the example.\r\n",
        "            text_a: string. The untokenized text of the first sequence. For single\r\n",
        "            sequence tasks, only this sequence must be specified.\r\n",
        "            text_b: (Optional) string. The untokenized text of the second sequence.\r\n",
        "            Only must be specified for sequence pair tasks.\r\n",
        "            label: (Optional) string. The label of the example. This should be\r\n",
        "            specified for train and dev examples, but not for test examples.\r\n",
        "        \"\"\"\r\n",
        "        self.guid = guid\r\n",
        "        self.text_a = text_a\r\n",
        "        self.text_b = text_b\r\n",
        "        self.label = label"
      ],
      "execution_count": null,
      "outputs": []
    },
    {
      "cell_type": "code",
      "metadata": {
        "id": "jQvqkYnY6ZkZ"
      },
      "source": [
        "class InputFeatures(object):\r\n",
        "    \"\"\"A single set of features of data.\"\"\"\r\n",
        "\r\n",
        "    def __init__(self, input_ids, input_mask, segment_ids, label_id):\r\n",
        "        self.input_ids = input_ids\r\n",
        "        self.input_mask = input_mask\r\n",
        "        self.segment_ids = segment_ids\r\n",
        "        self.label_id = label_id"
      ],
      "execution_count": null,
      "outputs": []
    },
    {
      "cell_type": "code",
      "metadata": {
        "id": "KycuyRUt6d4w"
      },
      "source": [
        "class DataProcessor(object):\r\n",
        "    \"\"\"Base class for data converters for sequence classification data sets.\"\"\"\r\n",
        "\r\n",
        "    def get_train_examples(self, data_dir):\r\n",
        "        \"\"\"Gets a collection of `InputExample`s for the train set.\"\"\"\r\n",
        "        raise NotImplementedError()\r\n",
        "\r\n",
        "    def get_dev_examples(self, data_dir):\r\n",
        "        \"\"\"Gets a collection of `InputExample`s for the dev set.\"\"\"\r\n",
        "        raise NotImplementedError()\r\n",
        "\r\n",
        "    def get_labels(self):\r\n",
        "        \"\"\"Gets the list of labels for this data set.\"\"\"\r\n",
        "        raise NotImplementedError()\r\n",
        "\r\n",
        "    @classmethod\r\n",
        "    def _read_tsv(cls, input_file, quotechar=None):\r\n",
        "        \"\"\"Reads a tab separated value file.\"\"\"\r\n",
        "        with open(input_file, \"r\", encoding=\"utf-8-sig\") as f:\r\n",
        "            reader = csv.reader(f, delimiter=\"\\t\", quotechar=quotechar)\r\n",
        "            lines = []\r\n",
        "            for line in reader:\r\n",
        "                if sys.version_info[0] == 2:\r\n",
        "                    line = list(unicode(cell, 'utf-8') for cell in line)\r\n",
        "                lines.append(line)\r\n",
        "            return lines\r\n",
        "          \r\n",
        "class JOBProcessor(DataProcessor):\r\n",
        "    \"\"\"Processor for the Amazon Reviews data set.\"\"\"\r\n",
        "\r\n",
        "    def get_train_examples(self, data_dir):\r\n",
        "        \"\"\"See base class.\"\"\"\r\n",
        "        return self._create_examples(\r\n",
        "            self._read_tsv(os.path.join(data_dir, \"train.csv\")), \"train\")\r\n",
        "\r\n",
        "    def get_dev_examples(self, data_dir):\r\n",
        "        \"\"\"See base class.\"\"\"\r\n",
        "        return self._create_examples(\r\n",
        "            self._read_tsv(os.path.join(data_dir, \"dev.csv\")), \"dev\")\r\n",
        "\r\n",
        "    def get_test_examples(self, data_dir):\r\n",
        "        \"\"\"See base class.\"\"\"\r\n",
        "        return self._create_examples(\r\n",
        "            self._read_tsv(os.path.join(data_dir, \"test.csv\")), \"test\")\r\n",
        "\r\n",
        "    def get_labels(self):\r\n",
        "        \"\"\"See base class.\"\"\"\r\n",
        "        return [0, 1, 2, 3, 4, 5, 6, 7, 8, 9, 10, 11, 12, 13, 14, 15, 16, 17, 18, 19, 20, 21, 22, 23, 24, 25, 26, 27]\r\n",
        "    #Hack to be compatible with the existing code in transformers library\r\n",
        "    def _read_tsv(self, file_path):\r\n",
        "        return pd.read_csv(file_path).values.tolist()\r\n",
        "\r\n",
        "    def _create_examples(self, lines, set_type):\r\n",
        "        \"\"\"Creates examples for the training and dev sets.\"\"\"\r\n",
        "        examples = []\r\n",
        "        for (i, line) in enumerate(lines):\r\n",
        "            if i == 0:\r\n",
        "               continue\r\n",
        "            guid = \"%s-%s\" % (set_type, i)\r\n",
        "            text_a = str(line[0])\r\n",
        "           # text_b = None\r\n",
        "            label = line[1]\r\n",
        "            examples.append(\r\n",
        "                InputExample(guid=guid, text_a=text_a, text_b=None, label=label))\r\n",
        "        return examples"
      ],
      "execution_count": null,
      "outputs": []
    },
    {
      "cell_type": "code",
      "metadata": {
        "id": "6uM9OJal6iF-"
      },
      "source": [
        "def set_seed(seed):\r\n",
        "    random.seed(seed)\r\n",
        "    np.random.seed(seed)\r\n",
        "    torch.manual_seed(seed)\r\n"
      ],
      "execution_count": null,
      "outputs": []
    },
    {
      "cell_type": "code",
      "metadata": {
        "id": "SVAmID3W6lVc"
      },
      "source": [
        "def simple_accuracy(preds, labels):\r\n",
        "  return (preds == labels).mean()\r\n",
        "  \r\n",
        "def acc_and_f1(preds, labels):\r\n",
        "  acc = simple_accuracy(preds, labels)\r\n",
        "  f1 = f1_score(y_true=labels, y_pred=preds,average ='macro')\r\n",
        "  return {\r\n",
        "      \"acc\": acc,\r\n",
        "      \"f1\": f1,\r\n",
        "  }\r\n",
        "\r\n",
        "\r\n",
        "def f1_weighted(preds, labels):\r\n",
        "  return f1_score(y_true=labels, y_pred=preds, average='weighted')\r\n",
        "  \r\n",
        "def compute_metrics(task_name, preds, labels):\r\n",
        "  assert len(preds) == len(labels)\r\n",
        "  if task_name == \"JOB\":\r\n",
        "    return {\"acc\": acc_and_f1(preds, labels)}     \r\n",
        "  else:\r\n",
        "    raise KeyError(task_name)"
      ],
      "execution_count": null,
      "outputs": []
    },
    {
      "cell_type": "code",
      "metadata": {
        "id": "Wk2MjBbu6npD"
      },
      "source": [
        "def _truncate_seq_pair(tokens_a, tokens_b, max_length):\r\n",
        "    \"\"\"Truncates a sequence pair in place to the maximum length.\"\"\"\r\n",
        "\r\n",
        "    # This is a simple heuristic which will always truncate the longer sequence\r\n",
        "    # one token at a time. This makes more sense than truncating an equal percent\r\n",
        "    # of tokens from each, since if one sequence is very short then each token\r\n",
        "    # that's truncated likely contains more information than a longer sequence.\r\n",
        "    while True:\r\n",
        "        total_length = len(tokens_a) + len(tokens_b)\r\n",
        "        if total_length <= max_length:\r\n",
        "            break\r\n",
        "        if len(tokens_a) > len(tokens_b):\r\n",
        "            tokens_a.pop()\r\n",
        "        else:\r\n",
        "            tokens_b.pop()"
      ],
      "execution_count": null,
      "outputs": []
    },
    {
      "cell_type": "code",
      "metadata": {
        "id": "tRP-i1VR6qoL"
      },
      "source": [
        "def convert_examples_to_features(examples, label_list, max_seq_length,\r\n",
        "                                 tokenizer, output_mode,\r\n",
        "                                 cls_token_at_end=False, pad_on_left=False,\r\n",
        "                                 cls_token='[CLS]', sep_token='[SEP]', pad_token=0,\r\n",
        "                                 sequence_a_segment_id=0, sequence_b_segment_id=1,\r\n",
        "                                 cls_token_segment_id=1, pad_token_segment_id=0,\r\n",
        "                                 mask_padding_with_zero=True):\r\n",
        "    \"\"\" Loads a data file into a list of `InputBatch`s\r\n",
        "        `cls_token_at_end` define the location of the CLS token:\r\n",
        "            - False (Default, BERT/XLM pattern): [CLS] + A + [SEP] + B + [SEP]\r\n",
        "            - True (XLNet/GPT pattern): A + [SEP] + B + [SEP] + [CLS]\r\n",
        "        `cls_token_segment_id` define the segment id associated to the CLS token (0 for BERT, 2 for XLNet)\r\n",
        "    \"\"\"\r\n",
        "\r\n",
        "    label_map = {label : i for i, label in enumerate(label_list)}\r\n",
        "\r\n",
        "    features = []\r\n",
        "    for (ex_index, example) in enumerate(examples):\r\n",
        "\r\n",
        "        tokens_a = tokenizer.tokenize(example.text_a)\r\n",
        "\r\n",
        "        tokens_b = None\r\n",
        "        if example.text_b:\r\n",
        "            tokens_b = tokenizer.tokenize(example.text_b)\r\n",
        "            # Modifies `tokens_a` and `tokens_b` in place so that the total\r\n",
        "            # length is less than the specified length.\r\n",
        "            # Account for [CLS], [SEP], [SEP] with \"- 3\"\r\n",
        "            _truncate_seq_pair(tokens_a, tokens_b, max_seq_length - 3)\r\n",
        "        else:\r\n",
        "            # Account for [CLS] and [SEP] with \"- 2\"\r\n",
        "            if len(tokens_a) > max_seq_length - 2:\r\n",
        "                tokens_a = tokens_a[:(max_seq_length - 2)]\r\n",
        "\r\n",
        "        # The convention in BERT is:\r\n",
        "        # (a) For sequence pairs:\r\n",
        "        #  tokens:   [CLS] is this jack ##son ##ville ? [SEP] no it is not . [SEP]\r\n",
        "        #  type_ids:   0   0  0    0    0     0       0   0   1  1  1  1   1   1\r\n",
        "        # (b) For single sequences:\r\n",
        "        #  tokens:   [CLS] the dog is hairy . [SEP]\r\n",
        "        #  type_ids:   0   0   0   0  0     0   0\r\n",
        "        #\r\n",
        "        # Where \"type_ids\" are used to indicate whether this is the first\r\n",
        "        # sequence or the second sequence. The embedding vectors for `type=0` and\r\n",
        "        # `type=1` were learned during pre-training and are added to the wordpiece\r\n",
        "        # embedding vector (and position vector). This is not *strictly* necessary\r\n",
        "        # since the [SEP] token unambiguously separates the sequences, but it makes\r\n",
        "        # it easier for the model to learn the concept of sequences.\r\n",
        "        #\r\n",
        "        # For classification tasks, the first vector (corresponding to [CLS]) is\r\n",
        "        # used as as the \"sentence vector\". Note that this only makes sense because\r\n",
        "        # the entire model is fine-tuned.\r\n",
        "        tokens = tokens_a + [sep_token]\r\n",
        "        segment_ids = [sequence_a_segment_id] * len(tokens)\r\n",
        "\r\n",
        "        if tokens_b:\r\n",
        "            tokens += tokens_b + [sep_token]\r\n",
        "            segment_ids += [sequence_b_segment_id] * (len(tokens_b) + 1)\r\n",
        "\r\n",
        "        if cls_token_at_end:\r\n",
        "            tokens = tokens + [cls_token]\r\n",
        "            segment_ids = segment_ids + [cls_token_segment_id]\r\n",
        "        else:\r\n",
        "            tokens = [cls_token] + tokens\r\n",
        "            segment_ids = [cls_token_segment_id] + segment_ids\r\n",
        "\r\n",
        "        input_ids = tokenizer.convert_tokens_to_ids(tokens)\r\n",
        "\r\n",
        "        # The mask has 1 for real tokens and 0 for padding tokens. Only real\r\n",
        "        # tokens are attended to.\r\n",
        "        input_mask = [1 if mask_padding_with_zero else 0] * len(input_ids)\r\n",
        "\r\n",
        "        # Zero-pad up to the sequence length.\r\n",
        "        padding_length = max_seq_length - len(input_ids)\r\n",
        "        if pad_on_left:\r\n",
        "            input_ids = ([pad_token] * padding_length) + input_ids\r\n",
        "            input_mask = ([0 if mask_padding_with_zero else 1] * padding_length) + input_mask\r\n",
        "            segment_ids = ([pad_token_segment_id] * padding_length) + segment_ids\r\n",
        "        else:\r\n",
        "            input_ids = input_ids + ([pad_token] * padding_length)\r\n",
        "            input_mask = input_mask + ([0 if mask_padding_with_zero else 1] * padding_length)\r\n",
        "            segment_ids = segment_ids + ([pad_token_segment_id] * padding_length)\r\n",
        "\r\n",
        "        assert len(input_ids) == max_seq_length\r\n",
        "        assert len(input_mask) == max_seq_length\r\n",
        "        assert len(segment_ids) == max_seq_length\r\n",
        "\r\n",
        "        if output_mode == \"classification\":\r\n",
        "            label_id = label_map[example.label]\r\n",
        "        elif output_mode == \"regression\":\r\n",
        "            label_id = float(example.label)\r\n",
        "        else:\r\n",
        "            raise KeyError(output_mode)\r\n",
        "\r\n",
        "        features.append(\r\n",
        "                InputFeatures(input_ids=input_ids,\r\n",
        "                              input_mask=input_mask,\r\n",
        "                              segment_ids=segment_ids,\r\n",
        "                              label_id=label_id))\r\n",
        "    return features"
      ],
      "execution_count": null,
      "outputs": []
    },
    {
      "cell_type": "code",
      "metadata": {
        "id": "D_bnAV7b60ZK"
      },
      "source": [
        "\r\n",
        "processor = JOBProcessor()\r\n",
        "label_list = processor.get_labels()\r\n",
        "num_labels = len(label_list)"
      ],
      "execution_count": null,
      "outputs": []
    },
    {
      "cell_type": "code",
      "metadata": {
        "colab": {
          "base_uri": "https://localhost:8080/",
          "height": 278,
          "referenced_widgets": [
            "d66f2610450e47e8a8d43e9481852663",
            "0567c7af51974235a6944b59b60eed30",
            "9027a0775d5945d19420bd00c65d1eec",
            "567460809ca74abb8794181fa5bfd687",
            "55a21fa7588948e3b52a0db354afff7a",
            "96a3618345dd47f7b9855240e95230b4",
            "145f9d57a29f4d0cb09ab17698999fc5",
            "68af9e3e53444d32b09087ccc96c5d9f",
            "a76b41d311864908b76fb79ba433b17c",
            "83c17f5f7f3c4a4c96daeb2c37eaf255",
            "51142657c5e9465eaf729d4bfdefa5de",
            "80093fd44fcf4fdf995654ef7d534995",
            "4df472aff0554039ae4d6db473ee8cfa",
            "74ec2c8c7432469895b89e40e371b5b0",
            "d25b727be124423b87f77bd609418254",
            "e65dd6e41bd1479bb63b67187c96b80a",
            "9023f2e177f04f30a584fa84024a96a6",
            "890ccd963b1744efaca30cfeb1e49346",
            "74fcdb1cc8c54909b4b174744ee498db",
            "3edafdab0d3847a6a1b4e100cb54c561",
            "d1ebdb3bcf084ea0ad5b08da8e792376",
            "3a3183a848cf46baaf683a31705afba2",
            "1453c584ebbb4823ac4de9c51e7a5f2c",
            "7b1b87cf7b0945609a131600fab43642"
          ]
        },
        "id": "-ZQnASgo8ecf",
        "outputId": "649d046e-3013-41c8-b49a-d9ee403ab77e"
      },
      "source": [
        "#XLNetConfig, XLNetForSequenceClassification, XLNetTokenizer\r\n",
        "config = XLNetConfig.from_pretrained('xlnet-base-cased', num_labels=num_labels)\r\n",
        "tokenizer = XLNetTokenizer.from_pretrained('xlnet-base-cased', do_lower_case=False)\r\n",
        "model = XLNetForSequenceClassification.from_pretrained('xlnet-base-cased', config=config)"
      ],
      "execution_count": null,
      "outputs": [
        {
          "output_type": "display_data",
          "data": {
            "application/vnd.jupyter.widget-view+json": {
              "model_id": "d66f2610450e47e8a8d43e9481852663",
              "version_minor": 0,
              "version_major": 2
            },
            "text/plain": [
              "HBox(children=(FloatProgress(value=0.0, description='Downloading', max=760.0, style=ProgressStyle(description_…"
            ]
          },
          "metadata": {
            "tags": []
          }
        },
        {
          "output_type": "stream",
          "text": [
            "\n"
          ],
          "name": "stdout"
        },
        {
          "output_type": "display_data",
          "data": {
            "application/vnd.jupyter.widget-view+json": {
              "model_id": "a76b41d311864908b76fb79ba433b17c",
              "version_minor": 0,
              "version_major": 2
            },
            "text/plain": [
              "HBox(children=(FloatProgress(value=0.0, description='Downloading', max=798011.0, style=ProgressStyle(descripti…"
            ]
          },
          "metadata": {
            "tags": []
          }
        },
        {
          "output_type": "stream",
          "text": [
            "\n"
          ],
          "name": "stdout"
        },
        {
          "output_type": "display_data",
          "data": {
            "application/vnd.jupyter.widget-view+json": {
              "model_id": "9023f2e177f04f30a584fa84024a96a6",
              "version_minor": 0,
              "version_major": 2
            },
            "text/plain": [
              "HBox(children=(FloatProgress(value=0.0, description='Downloading', max=467042463.0, style=ProgressStyle(descri…"
            ]
          },
          "metadata": {
            "tags": []
          }
        },
        {
          "output_type": "stream",
          "text": [
            "\n"
          ],
          "name": "stdout"
        },
        {
          "output_type": "stream",
          "text": [
            "Some weights of the model checkpoint at xlnet-base-cased were not used when initializing XLNetForSequenceClassification: ['lm_loss.weight', 'lm_loss.bias']\n",
            "- This IS expected if you are initializing XLNetForSequenceClassification from the checkpoint of a model trained on another task or with another architecture (e.g. initializing a BertForSequenceClassification model from a BertForPreTraining model).\n",
            "- This IS NOT expected if you are initializing XLNetForSequenceClassification from the checkpoint of a model that you expect to be exactly identical (initializing a BertForSequenceClassification model from a BertForSequenceClassification model).\n",
            "Some weights of XLNetForSequenceClassification were not initialized from the model checkpoint at xlnet-base-cased and are newly initialized: ['sequence_summary.summary.weight', 'sequence_summary.summary.bias', 'logits_proj.weight', 'logits_proj.bias']\n",
            "You should probably TRAIN this model on a down-stream task to be able to use it for predictions and inference.\n"
          ],
          "name": "stderr"
        }
      ]
    },
    {
      "cell_type": "code",
      "metadata": {
        "id": "9RFaKP0l8kRK"
      },
      "source": [
        " def load_and_cache_examples(tokenizer, dataset='train'):  \r\n",
        "  if dataset == \"train\":\r\n",
        "      examples = processor.get_train_examples(data_dir)\r\n",
        "  elif dataset == \"dev\":\r\n",
        "      examples = processor.get_dev_examples(data_dir)\r\n",
        "  else:\r\n",
        "      examples = processor.get_test_examples(data_dir)\r\n",
        "  \r\n",
        "  features = convert_examples_to_features(examples, label_list, max_seq_length, tokenizer, output_mode,\r\n",
        "            cls_token_at_end=True,            # xlnet has a cls token at the end\r\n",
        "            cls_token=tokenizer.cls_token,\r\n",
        "            sep_token=tokenizer.sep_token,\r\n",
        "            cls_token_segment_id=2,\r\n",
        "            pad_on_left=True,               # pad on the left for xlnet\r\n",
        "            pad_token=tokenizer.convert_tokens_to_ids([tokenizer.pad_token])[0],\r\n",
        "            pad_token_segment_id=4)\r\n",
        "  # Convert to Tensors and build dataset\r\n",
        "  all_input_ids = torch.tensor([f.input_ids for f in features], dtype=torch.long)\r\n",
        "  all_input_mask = torch.tensor([f.input_mask for f in features], dtype=torch.long)\r\n",
        "  all_segment_ids = torch.tensor([f.segment_ids for f in features], dtype=torch.long)\r\n",
        "  if output_mode == \"classification\":\r\n",
        "      all_label_ids = torch.tensor([f.label_id for f in features], dtype=torch.long)\r\n",
        "  elif output_mode == \"regression\":\r\n",
        "      all_label_ids = torch.tensor([f.label_id for f in features], dtype=torch.float)\r\n",
        "\r\n",
        "  dataset = TensorDataset(all_input_ids, all_input_mask, all_segment_ids, all_label_ids)\r\n",
        "  return dataset"
      ],
      "execution_count": null,
      "outputs": []
    },
    {
      "cell_type": "code",
      "metadata": {
        "colab": {
          "base_uri": "https://localhost:8080/"
        },
        "id": "9vsiFZRF93rE",
        "outputId": "2e841e56-37e4-45f0-9d2f-892fd00688fa"
      },
      "source": [
        "output_mode = 'classification'\r\n",
        "max_seq_length = 256\r\n",
        "batch_size = 8\r\n",
        "max_grad_norm = 1.0\r\n",
        "gradient_accumulation_steps=2\r\n",
        "num_train_epochs=1\r\n",
        "weight_decay=0.0\r\n",
        "device = torch.device(\"cuda\" if torch.cuda.is_available() else \"cpu\")\r\n",
        "print(device)"
      ],
      "execution_count": null,
      "outputs": [
        {
          "output_type": "stream",
          "text": [
            "cuda\n"
          ],
          "name": "stdout"
        }
      ]
    },
    {
      "cell_type": "code",
      "metadata": {
        "id": "y4shGAUC-RfA"
      },
      "source": [
        "learning_rate = 2e-5\r\n",
        "adam_epsilon = 1e-8\r\n",
        "warmup_steps = 0"
      ],
      "execution_count": null,
      "outputs": []
    },
    {
      "cell_type": "code",
      "metadata": {
        "id": "HGeQmWDw-bYN"
      },
      "source": [
        "def train(train_dataset, model, tokenizer):\r\n",
        "  \"\"\" Train the model \"\"\"\r\n",
        "  train_sampler = RandomSampler(train_dataset)\r\n",
        "  train_dataloader = DataLoader(train_dataset, sampler=train_sampler, batch_size=batch_size)\r\n",
        "  t_total = len(train_dataloader) // gradient_accumulation_steps * num_train_epochs\r\n",
        "  # Prepare optimizer and schedule (linear warmup and decay)\r\n",
        "  no_decay = ['bias', 'LayerNorm.weight']\r\n",
        "  optimizer_grouped_parameters = [\r\n",
        "      {'params': [p for n, p in model.named_parameters() if not any(nd in n for nd in no_decay)], 'weight_decay': weight_decay},\r\n",
        "      {'params': [p for n, p in model.named_parameters() if any(nd in n for nd in no_decay)], 'weight_decay': 0.0}\r\n",
        "      ]\r\n",
        "  optimizer = AdamW(optimizer_grouped_parameters, lr=learning_rate, eps=adam_epsilon)\r\n",
        "  scheduler = get_linear_schedule_with_warmup(optimizer, num_warmup_steps=warmup_steps, num_training_steps =t_total)\r\n",
        "  \r\n",
        "  global_step = 0\r\n",
        "  tr_loss, logging_loss = 0.0, 0.0\r\n",
        "  model.zero_grad()\r\n",
        "  train_iterator = tqdm_notebook(range(int(num_train_epochs)), desc=\"Epoch\")\r\n",
        "  set_seed(42)\r\n",
        "  for _ in train_iterator:\r\n",
        "    epoch_iterator = tqdm_notebook(train_dataloader, desc=\"Iteration\")\r\n",
        "    for step, batch in enumerate(epoch_iterator):\r\n",
        "      model.train()\r\n",
        "      batch = tuple(t.to(device) for t in batch)\r\n",
        "      inputs = {'input_ids':      batch[0],\r\n",
        "                'attention_mask': batch[1],\r\n",
        "                'token_type_ids': batch[2],\r\n",
        "                'labels':         batch[3]}\r\n",
        "      outputs = model(**inputs)\r\n",
        "      loss = outputs[0]  # model outputs are always tuple in pytorch-transformers (see doc)\r\n",
        "      if gradient_accumulation_steps > 1:\r\n",
        "        loss = loss / gradient_accumulation_steps\r\n",
        "      loss.backward()\r\n",
        "      torch.nn.utils.clip_grad_norm_(model.parameters(), max_grad_norm)\r\n",
        "      tr_loss += loss.item()\r\n",
        "      if (step + 1) % gradient_accumulation_steps == 0:\r\n",
        "          scheduler.step()  # Update learning rate schedule\r\n",
        "          optimizer.step()\r\n",
        "          model.zero_grad()\r\n",
        "          global_step += 1\r\n",
        "          \r\n",
        "  return global_step, tr_loss / global_step"
      ],
      "execution_count": null,
      "outputs": []
    },
    {
      "cell_type": "code",
      "metadata": {
        "id": "6dWLmYAJ-euq"
      },
      "source": [
        "def evaluate(model, tokenizer, prefix=\"\"):\r\n",
        "  results = {}\r\n",
        "  eval_dataset = load_and_cache_examples(tokenizer, dataset='dev')\r\n",
        "  eval_batch_size = 8\r\n",
        "  eval_sampler = SequentialSampler(eval_dataset)\r\n",
        "  eval_dataloader = DataLoader(eval_dataset, sampler=eval_sampler, batch_size=eval_batch_size)\r\n",
        "  eval_loss = 0.0\r\n",
        "  nb_eval_steps = 0\r\n",
        "  preds = None\r\n",
        "  out_label_ids = None\r\n",
        "  for batch in tqdm_notebook(eval_dataloader, desc=\"Evaluating\"):\r\n",
        "    model.eval()\r\n",
        "    batch = tuple(t.to(device) for t in batch)\r\n",
        "    with torch.no_grad():\r\n",
        "      inputs = {'input_ids':      batch[0],\r\n",
        "                'attention_mask': batch[1],\r\n",
        "                'token_type_ids': batch[2],  # XLM don't use segment_ids\r\n",
        "                'labels':         batch[3]}\r\n",
        "      outputs = model(**inputs)\r\n",
        "      tmp_eval_loss, logits = outputs[:2]\r\n",
        "      eval_loss += tmp_eval_loss.mean().item()\r\n",
        "    \r\n",
        "    nb_eval_steps += 1\r\n",
        "    if preds is None:\r\n",
        "        preds = logits.detach().cpu().numpy()\r\n",
        "        out_label_ids = inputs['labels'].detach().cpu().numpy()\r\n",
        "    else:\r\n",
        "        preds = np.append(preds, logits.detach().cpu().numpy(), axis=0)\r\n",
        "        out_label_ids = np.append(out_label_ids, inputs['labels'].detach().cpu().numpy(), axis=0)\r\n",
        "  eval_loss = eval_loss / nb_eval_steps\r\n",
        "  if output_mode == \"classification\":\r\n",
        "      preds = np.argmax(preds, axis=1)\r\n",
        "  elif output_mode == \"regression\":\r\n",
        "      preds = np.squeeze(preds)\r\n",
        "  result = compute_metrics(\"JOB\", preds, out_label_ids)\r\n",
        "  return result"
      ],
      "execution_count": null,
      "outputs": []
    },
    {
      "cell_type": "code",
      "metadata": {
        "colab": {
          "base_uri": "https://localhost:8080/",
          "height": 210,
          "referenced_widgets": [
            "ea9bfb04052646f3aae91d018efa589c",
            "355a86adef50423296c1cf168eb37864",
            "f0811b7c54724840a7717aa9be3bdaad",
            "45b3d4a2ffe847849cdfcf6518cb280d",
            "18a5e5d9630d47a6a55f8e8a8c8d2f9f",
            "df38bdd5e1224c65aa805f1c1b06d9eb",
            "3b4628714da3487daf776a6a027259c2",
            "c7fb34f748ef46ceaf207af4d7eec700",
            "7729ff3c7bda480db7cb62674f780a59",
            "6624ab2911264fe7937ae74f68948915",
            "279e99e853d247ef9b0a0caaf7c8a8a1",
            "6cb898b625c24899a88fbf491ab933bf",
            "84c0779e32234294a516d5cc422f45b5",
            "b147493d163d44f3b2ab57b8bc25f0c5",
            "971032e4761a4f2496e92569d0d2757f",
            "11aeb29071194b8cbdbc970cdcba8ad5"
          ]
        },
        "id": "zlDfbUgj-mBF",
        "outputId": "ce4f2183-0d0d-41be-8baf-f52d881a0648"
      },
      "source": [
        "data_dir= \"/content/drive/MyDrive/MachineLearningProject/XLNET_RESULTS\"\r\n",
        "model.to(device)\r\n",
        "torch.save(model.state_dict(),r'/content/drive/MyDrive/MachineLearningProject/XLNET_RESULTS/'+'.bin')\r\n",
        "train_dataset = load_and_cache_examples(tokenizer, dataset=\"train\")\r\n",
        "global_step, tr_loss = train(train_dataset, model, tokenizer)"
      ],
      "execution_count": null,
      "outputs": [
        {
          "output_type": "stream",
          "text": [
            "/usr/local/lib/python3.6/dist-packages/ipykernel_launcher.py:18: TqdmDeprecationWarning: This function will be removed in tqdm==5.0.0\n",
            "Please use `tqdm.notebook.tqdm` instead of `tqdm.tqdm_notebook`\n"
          ],
          "name": "stderr"
        },
        {
          "output_type": "display_data",
          "data": {
            "application/vnd.jupyter.widget-view+json": {
              "model_id": "ea9bfb04052646f3aae91d018efa589c",
              "version_minor": 0,
              "version_major": 2
            },
            "text/plain": [
              "HBox(children=(FloatProgress(value=0.0, description='Epoch', max=1.0, style=ProgressStyle(description_width='i…"
            ]
          },
          "metadata": {
            "tags": []
          }
        },
        {
          "output_type": "stream",
          "text": [
            "/usr/local/lib/python3.6/dist-packages/ipykernel_launcher.py:21: TqdmDeprecationWarning: This function will be removed in tqdm==5.0.0\n",
            "Please use `tqdm.notebook.tqdm` instead of `tqdm.tqdm_notebook`\n"
          ],
          "name": "stderr"
        },
        {
          "output_type": "display_data",
          "data": {
            "application/vnd.jupyter.widget-view+json": {
              "model_id": "7729ff3c7bda480db7cb62674f780a59",
              "version_minor": 0,
              "version_major": 2
            },
            "text/plain": [
              "HBox(children=(FloatProgress(value=0.0, description='Iteration', max=22500.0, style=ProgressStyle(description_…"
            ]
          },
          "metadata": {
            "tags": []
          }
        },
        {
          "output_type": "stream",
          "text": [
            "/usr/local/lib/python3.6/dist-packages/torch/optim/lr_scheduler.py:136: UserWarning: Detected call of `lr_scheduler.step()` before `optimizer.step()`. In PyTorch 1.1.0 and later, you should call them in the opposite order: `optimizer.step()` before `lr_scheduler.step()`.  Failure to do this will result in PyTorch skipping the first value of the learning rate schedule. See more details at https://pytorch.org/docs/stable/optim.html#how-to-adjust-learning-rate\n",
            "  \"https://pytorch.org/docs/stable/optim.html#how-to-adjust-learning-rate\", UserWarning)\n"
          ],
          "name": "stderr"
        }
      ]
    },
    {
      "cell_type": "code",
      "metadata": {
        "id": "2nd7E7A8-sRW"
      },
      "source": [
        "# Evaluation\r\n",
        "result = evaluate(model, tokenizer, prefix=global_step)\r\n",
        "print(result)"
      ],
      "execution_count": null,
      "outputs": []
    },
    {
      "cell_type": "code",
      "metadata": {
        "id": "b1zSXVBCb1vJ"
      },
      "source": [
        ""
      ],
      "execution_count": null,
      "outputs": []
    }
  ]
}