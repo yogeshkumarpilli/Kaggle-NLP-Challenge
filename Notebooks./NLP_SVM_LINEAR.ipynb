{
 "cells": [
  {
   "cell_type": "code",
   "execution_count": 12,
   "metadata": {},
   "outputs": [],
   "source": [
    "import pandas as pd\n",
    "import numpy as np\n",
    "import json\n",
    "import re\n",
    "import time\n",
    "from sklearn.feature_extraction.text import CountVectorizer, TfidfVectorizer\n",
    "from sklearn.feature_extraction.text import TfidfTransformer\n",
    "from nltk.corpus import stopwords\n",
    "import re\n",
    "from bs4 import BeautifulSoup\n",
    "from sklearn.svm import LinearSVC\n",
    "from sklearn import metrics\n",
    "from sklearn.model_selection import train_test_split\n",
    "from sklearn.pipeline import Pipeline\n",
    "\n",
    "%matplotlib inline\n",
    "import csv"
   ]
  },
  {
   "cell_type": "code",
   "execution_count": 13,
   "metadata": {},
   "outputs": [
    {
     "data": {
      "text/html": [
       "<div>\n",
       "<style scoped>\n",
       "    .dataframe tbody tr th:only-of-type {\n",
       "        vertical-align: middle;\n",
       "    }\n",
       "\n",
       "    .dataframe tbody tr th {\n",
       "        vertical-align: top;\n",
       "    }\n",
       "\n",
       "    .dataframe thead th {\n",
       "        text-align: right;\n",
       "    }\n",
       "</style>\n",
       "<table border=\"1\" class=\"dataframe\">\n",
       "  <thead>\n",
       "    <tr style=\"text-align: right;\">\n",
       "      <th></th>\n",
       "      <th>Id</th>\n",
       "      <th>description</th>\n",
       "      <th>gender</th>\n",
       "      <th>Category</th>\n",
       "      <th>jobtitle</th>\n",
       "    </tr>\n",
       "  </thead>\n",
       "  <tbody>\n",
       "    <tr>\n",
       "      <th>0</th>\n",
       "      <td>0</td>\n",
       "      <td>She is also a Ronald D. Asmus Policy Entrepre...</td>\n",
       "      <td>F</td>\n",
       "      <td>19</td>\n",
       "      <td>professor</td>\n",
       "    </tr>\n",
       "    <tr>\n",
       "      <th>1</th>\n",
       "      <td>1</td>\n",
       "      <td>He is a member of the AICPA and WICPA. Brent ...</td>\n",
       "      <td>M</td>\n",
       "      <td>9</td>\n",
       "      <td>accountant</td>\n",
       "    </tr>\n",
       "    <tr>\n",
       "      <th>2</th>\n",
       "      <td>2</td>\n",
       "      <td>Dr. Aster has held teaching and research posi...</td>\n",
       "      <td>M</td>\n",
       "      <td>19</td>\n",
       "      <td>professor</td>\n",
       "    </tr>\n",
       "    <tr>\n",
       "      <th>3</th>\n",
       "      <td>3</td>\n",
       "      <td>He runs a boutique design studio attending cl...</td>\n",
       "      <td>M</td>\n",
       "      <td>24</td>\n",
       "      <td>architect</td>\n",
       "    </tr>\n",
       "    <tr>\n",
       "      <th>4</th>\n",
       "      <td>4</td>\n",
       "      <td>He focuses on cloud security, identity and ac...</td>\n",
       "      <td>M</td>\n",
       "      <td>24</td>\n",
       "      <td>architect</td>\n",
       "    </tr>\n",
       "    <tr>\n",
       "      <th>...</th>\n",
       "      <td>...</td>\n",
       "      <td>...</td>\n",
       "      <td>...</td>\n",
       "      <td>...</td>\n",
       "      <td>...</td>\n",
       "    </tr>\n",
       "    <tr>\n",
       "      <th>217192</th>\n",
       "      <td>217192</td>\n",
       "      <td>A member of the UWA Cultural Collections Boar...</td>\n",
       "      <td>M</td>\n",
       "      <td>19</td>\n",
       "      <td>professor</td>\n",
       "    </tr>\n",
       "    <tr>\n",
       "      <th>217193</th>\n",
       "      <td>217193</td>\n",
       "      <td>Kelly has worked globally leading teams of co...</td>\n",
       "      <td>F</td>\n",
       "      <td>22</td>\n",
       "      <td>psychologist</td>\n",
       "    </tr>\n",
       "    <tr>\n",
       "      <th>217194</th>\n",
       "      <td>217194</td>\n",
       "      <td>He's the lead author of a recent study that f...</td>\n",
       "      <td>M</td>\n",
       "      <td>19</td>\n",
       "      <td>professor</td>\n",
       "    </tr>\n",
       "    <tr>\n",
       "      <th>217195</th>\n",
       "      <td>217195</td>\n",
       "      <td>She specializes in the theoretical and pedago...</td>\n",
       "      <td>F</td>\n",
       "      <td>19</td>\n",
       "      <td>professor</td>\n",
       "    </tr>\n",
       "    <tr>\n",
       "      <th>217196</th>\n",
       "      <td>217196</td>\n",
       "      <td>Since she was 10 years old she has become a m...</td>\n",
       "      <td>F</td>\n",
       "      <td>1</td>\n",
       "      <td>model</td>\n",
       "    </tr>\n",
       "  </tbody>\n",
       "</table>\n",
       "<p>217197 rows × 5 columns</p>\n",
       "</div>"
      ],
      "text/plain": [
       "            Id                                        description gender  \\\n",
       "0            0   She is also a Ronald D. Asmus Policy Entrepre...      F   \n",
       "1            1   He is a member of the AICPA and WICPA. Brent ...      M   \n",
       "2            2   Dr. Aster has held teaching and research posi...      M   \n",
       "3            3   He runs a boutique design studio attending cl...      M   \n",
       "4            4   He focuses on cloud security, identity and ac...      M   \n",
       "...        ...                                                ...    ...   \n",
       "217192  217192   A member of the UWA Cultural Collections Boar...      M   \n",
       "217193  217193   Kelly has worked globally leading teams of co...      F   \n",
       "217194  217194   He's the lead author of a recent study that f...      M   \n",
       "217195  217195   She specializes in the theoretical and pedago...      F   \n",
       "217196  217196   Since she was 10 years old she has become a m...      F   \n",
       "\n",
       "        Category      jobtitle  \n",
       "0             19     professor  \n",
       "1              9    accountant  \n",
       "2             19     professor  \n",
       "3             24     architect  \n",
       "4             24     architect  \n",
       "...          ...           ...  \n",
       "217192        19     professor  \n",
       "217193        22  psychologist  \n",
       "217194        19     professor  \n",
       "217195        19     professor  \n",
       "217196         1         model  \n",
       "\n",
       "[217197 rows x 5 columns]"
      ]
     },
     "execution_count": 13,
     "metadata": {},
     "output_type": "execute_result"
    }
   ],
   "source": [
    "labels = pd.read_csv(\"categories_string.csv\")\n",
    "train_label= pd.read_csv('train_label.csv')\n",
    "with open('train.json') as f:\n",
    "   train = json.load(f)\n",
    "with open('test.json') as h:\n",
    "   test = json.load(h)\n",
    "\n",
    "train_df = pd.DataFrame(train)\n",
    "test_df = pd.DataFrame(test)\n",
    "dic = labels.to_dict()\n",
    "dic = dic[\"0\"]\n",
    "train_label['jobtitle'] = train_label['Category']\n",
    "train_label = train_label.replace({\"jobtitle\": dic})\n",
    "comb_data = pd.merge(train_df,train_label,how = \"outer\", on = 'Id' )\n",
    "comb_data"
   ]
  },
  {
   "cell_type": "code",
   "execution_count": 14,
   "metadata": {},
   "outputs": [],
   "source": [
    "sentences = comb_data['description'].tolist()\n",
    "len(sentences)\n",
    "sentences_as_one_string =\" \".join(sentences)"
   ]
  },
  {
   "cell_type": "code",
   "execution_count": 15,
   "metadata": {},
   "outputs": [
    {
     "data": {
      "text/plain": [
       "13504784"
      ]
     },
     "execution_count": 15,
     "metadata": {},
     "output_type": "execute_result"
    }
   ],
   "source": [
    "comb_data['description'].apply(lambda x: len(x.split(' '))).sum()"
   ]
  },
  {
   "cell_type": "code",
   "execution_count": 16,
   "metadata": {},
   "outputs": [],
   "source": [
    "def print_train(index):\n",
    "    example =comb_data[comb_data.index == index][['description', 'Id']].values[0]\n",
    "    if len(example) > 0:\n",
    "        print(example[0])\n",
    "        print('Tag:', example[1])"
   ]
  },
  {
   "cell_type": "code",
   "execution_count": 17,
   "metadata": {},
   "outputs": [
    {
     "name": "stdout",
     "output_type": "stream",
     "text": [
      " An elder in the United Methodist Church, she writes and lectures widely about African-American religion and is treasurer of the Society for the Study of Black Religion. She is an expert on women in the civil rights movement, and she wrote Witnessing and Testifying: Black Women, Religion, and Civil Rights (Augsburg Fortress, 2003). Contact 404-270-5527, RRoss@spelman.edu.\n",
      "Tag: 10\n"
     ]
    }
   ],
   "source": [
    "print_train(10)"
   ]
  },
  {
   "cell_type": "code",
   "execution_count": 18,
   "metadata": {},
   "outputs": [],
   "source": [
    "sentences_test = test_df['description'].tolist()\n",
    "len(sentences_test)\n",
    "sentences_test_as_one_string =\" \".join(sentences)"
   ]
  },
  {
   "cell_type": "code",
   "execution_count": 19,
   "metadata": {},
   "outputs": [],
   "source": [
    "def print_test(Id):\n",
    "    example =test_df[test_df.Id == Id][['description', 'Id']].values[0]\n",
    "    if len(example) > 0:\n",
    "        print(example[0])\n",
    "        print('Tag:', example[1])"
   ]
  },
  {
   "cell_type": "code",
   "execution_count": 20,
   "metadata": {},
   "outputs": [
    {
     "name": "stdout",
     "output_type": "stream",
     "text": [
      " He is coauthor with Robert N. Brandon of Biology’s First Law: The Tendency for Diversity and Complexity to Increase in Evolutionary Systems (University of Chicago Press, 2010) and is coauthor with Alex Rosenberg of Philosophy of Biology: A Contemporary Introduction (Routledge, 2008).» Post Comment\n",
      "Tag: 84\n"
     ]
    }
   ],
   "source": [
    "print_test(84)"
   ]
  },
  {
   "cell_type": "code",
   "execution_count": 21,
   "metadata": {},
   "outputs": [],
   "source": [
    "REPLACE_BY_SPACE_RE = re.compile('[/(){}\\[\\]\\|@,;]')\n",
    "BAD_SYMBOLS_RE = re.compile('[^0-9a-z #+_]')\n",
    "STOPWORDS = set(stopwords.words('english'))\n",
    "\n",
    "def clean_text(text):\n",
    "    \"\"\"\n",
    "        text: a string\n",
    "        \n",
    "        return: modified initial string\n",
    "    \"\"\"\n",
    "    text = BeautifulSoup(text, \"lxml\").text # HTML decoding\n",
    "    text = text.lower() # lowercase text\n",
    "    text = REPLACE_BY_SPACE_RE.sub(' ', text) # replace REPLACE_BY_SPACE_RE symbols by space in text\n",
    "    text = BAD_SYMBOLS_RE.sub('', text) # delete symbols which are in BAD_SYMBOLS_RE from text\n",
    "    text = ' '.join(word for word in text.split() if word not in STOPWORDS) # delete stopwors from text\n",
    "    return text"
   ]
  },
  {
   "cell_type": "code",
   "execution_count": 22,
   "metadata": {},
   "outputs": [
    {
     "name": "stdout",
     "output_type": "stream",
     "text": [
      "Wall time: 32.8 s\n"
     ]
    }
   ],
   "source": [
    "%%time\n",
    "comb_data['cleaned_Data'] = comb_data['description'].apply(clean_text)"
   ]
  },
  {
   "cell_type": "code",
   "execution_count": 23,
   "metadata": {},
   "outputs": [
    {
     "name": "stdout",
     "output_type": "stream",
     "text": [
      " An elder in the United Methodist Church, she writes and lectures widely about African-American religion and is treasurer of the Society for the Study of Black Religion. She is an expert on women in the civil rights movement, and she wrote Witnessing and Testifying: Black Women, Religion, and Civil Rights (Augsburg Fortress, 2003). Contact 404-270-5527, RRoss@spelman.edu.\n",
      "Tag: 10\n"
     ]
    }
   ],
   "source": [
    "print_train(10)"
   ]
  },
  {
   "cell_type": "code",
   "execution_count": 24,
   "metadata": {},
   "outputs": [
    {
     "data": {
      "text/html": [
       "<div>\n",
       "<style scoped>\n",
       "    .dataframe tbody tr th:only-of-type {\n",
       "        vertical-align: middle;\n",
       "    }\n",
       "\n",
       "    .dataframe tbody tr th {\n",
       "        vertical-align: top;\n",
       "    }\n",
       "\n",
       "    .dataframe thead th {\n",
       "        text-align: right;\n",
       "    }\n",
       "</style>\n",
       "<table border=\"1\" class=\"dataframe\">\n",
       "  <thead>\n",
       "    <tr style=\"text-align: right;\">\n",
       "      <th></th>\n",
       "      <th>Id</th>\n",
       "      <th>description</th>\n",
       "      <th>gender</th>\n",
       "      <th>Category</th>\n",
       "      <th>jobtitle</th>\n",
       "      <th>cleaned_Data</th>\n",
       "    </tr>\n",
       "  </thead>\n",
       "  <tbody>\n",
       "    <tr>\n",
       "      <th>0</th>\n",
       "      <td>0</td>\n",
       "      <td>She is also a Ronald D. Asmus Policy Entrepre...</td>\n",
       "      <td>F</td>\n",
       "      <td>19</td>\n",
       "      <td>professor</td>\n",
       "      <td>also ronald asmus policy entrepreneur fellow g...</td>\n",
       "    </tr>\n",
       "    <tr>\n",
       "      <th>1</th>\n",
       "      <td>1</td>\n",
       "      <td>He is a member of the AICPA and WICPA. Brent ...</td>\n",
       "      <td>M</td>\n",
       "      <td>9</td>\n",
       "      <td>accountant</td>\n",
       "      <td>member aicpa wicpa brent graduated university ...</td>\n",
       "    </tr>\n",
       "    <tr>\n",
       "      <th>2</th>\n",
       "      <td>2</td>\n",
       "      <td>Dr. Aster has held teaching and research posi...</td>\n",
       "      <td>M</td>\n",
       "      <td>19</td>\n",
       "      <td>professor</td>\n",
       "      <td>dr aster held teaching research positions ben ...</td>\n",
       "    </tr>\n",
       "    <tr>\n",
       "      <th>3</th>\n",
       "      <td>3</td>\n",
       "      <td>He runs a boutique design studio attending cl...</td>\n",
       "      <td>M</td>\n",
       "      <td>24</td>\n",
       "      <td>architect</td>\n",
       "      <td>runs boutique design studio attending clients ...</td>\n",
       "    </tr>\n",
       "    <tr>\n",
       "      <th>4</th>\n",
       "      <td>4</td>\n",
       "      <td>He focuses on cloud security, identity and ac...</td>\n",
       "      <td>M</td>\n",
       "      <td>24</td>\n",
       "      <td>architect</td>\n",
       "      <td>focuses cloud security identity access managem...</td>\n",
       "    </tr>\n",
       "    <tr>\n",
       "      <th>...</th>\n",
       "      <td>...</td>\n",
       "      <td>...</td>\n",
       "      <td>...</td>\n",
       "      <td>...</td>\n",
       "      <td>...</td>\n",
       "      <td>...</td>\n",
       "    </tr>\n",
       "    <tr>\n",
       "      <th>217192</th>\n",
       "      <td>217192</td>\n",
       "      <td>A member of the UWA Cultural Collections Boar...</td>\n",
       "      <td>M</td>\n",
       "      <td>19</td>\n",
       "      <td>professor</td>\n",
       "      <td>member uwa cultural collections board gary chi...</td>\n",
       "    </tr>\n",
       "    <tr>\n",
       "      <th>217193</th>\n",
       "      <td>217193</td>\n",
       "      <td>Kelly has worked globally leading teams of co...</td>\n",
       "      <td>F</td>\n",
       "      <td>22</td>\n",
       "      <td>psychologist</td>\n",
       "      <td>kelly worked globally leading teams consultant...</td>\n",
       "    </tr>\n",
       "    <tr>\n",
       "      <th>217194</th>\n",
       "      <td>217194</td>\n",
       "      <td>He's the lead author of a recent study that f...</td>\n",
       "      <td>M</td>\n",
       "      <td>19</td>\n",
       "      <td>professor</td>\n",
       "      <td>hes lead author recent study found hospitaliza...</td>\n",
       "    </tr>\n",
       "    <tr>\n",
       "      <th>217195</th>\n",
       "      <td>217195</td>\n",
       "      <td>She specializes in the theoretical and pedago...</td>\n",
       "      <td>F</td>\n",
       "      <td>19</td>\n",
       "      <td>professor</td>\n",
       "      <td>specializes theoretical pedagogical foundation...</td>\n",
       "    </tr>\n",
       "    <tr>\n",
       "      <th>217196</th>\n",
       "      <td>217196</td>\n",
       "      <td>Since she was 10 years old she has become a m...</td>\n",
       "      <td>F</td>\n",
       "      <td>1</td>\n",
       "      <td>model</td>\n",
       "      <td>since 10 years old become model later started ...</td>\n",
       "    </tr>\n",
       "  </tbody>\n",
       "</table>\n",
       "<p>217197 rows × 6 columns</p>\n",
       "</div>"
      ],
      "text/plain": [
       "            Id                                        description gender  \\\n",
       "0            0   She is also a Ronald D. Asmus Policy Entrepre...      F   \n",
       "1            1   He is a member of the AICPA and WICPA. Brent ...      M   \n",
       "2            2   Dr. Aster has held teaching and research posi...      M   \n",
       "3            3   He runs a boutique design studio attending cl...      M   \n",
       "4            4   He focuses on cloud security, identity and ac...      M   \n",
       "...        ...                                                ...    ...   \n",
       "217192  217192   A member of the UWA Cultural Collections Boar...      M   \n",
       "217193  217193   Kelly has worked globally leading teams of co...      F   \n",
       "217194  217194   He's the lead author of a recent study that f...      M   \n",
       "217195  217195   She specializes in the theoretical and pedago...      F   \n",
       "217196  217196   Since she was 10 years old she has become a m...      F   \n",
       "\n",
       "        Category      jobtitle  \\\n",
       "0             19     professor   \n",
       "1              9    accountant   \n",
       "2             19     professor   \n",
       "3             24     architect   \n",
       "4             24     architect   \n",
       "...          ...           ...   \n",
       "217192        19     professor   \n",
       "217193        22  psychologist   \n",
       "217194        19     professor   \n",
       "217195        19     professor   \n",
       "217196         1         model   \n",
       "\n",
       "                                             cleaned_Data  \n",
       "0       also ronald asmus policy entrepreneur fellow g...  \n",
       "1       member aicpa wicpa brent graduated university ...  \n",
       "2       dr aster held teaching research positions ben ...  \n",
       "3       runs boutique design studio attending clients ...  \n",
       "4       focuses cloud security identity access managem...  \n",
       "...                                                   ...  \n",
       "217192  member uwa cultural collections board gary chi...  \n",
       "217193  kelly worked globally leading teams consultant...  \n",
       "217194  hes lead author recent study found hospitaliza...  \n",
       "217195  specializes theoretical pedagogical foundation...  \n",
       "217196  since 10 years old become model later started ...  \n",
       "\n",
       "[217197 rows x 6 columns]"
      ]
     },
     "execution_count": 24,
     "metadata": {},
     "output_type": "execute_result"
    }
   ],
   "source": [
    "comb_data"
   ]
  },
  {
   "cell_type": "code",
   "execution_count": 31,
   "metadata": {},
   "outputs": [
    {
     "name": "stdout",
     "output_type": "stream",
     "text": [
      "            Id                                        description gender  \\\n",
      "0            0   She is also a Ronald D. Asmus Policy Entrepre...      F   \n",
      "1            1   He is a member of the AICPA and WICPA. Brent ...      M   \n",
      "2            2   Dr. Aster has held teaching and research posi...      M   \n",
      "3            3   He runs a boutique design studio attending cl...      M   \n",
      "4            4   He focuses on cloud security, identity and ac...      M   \n",
      "...        ...                                                ...    ...   \n",
      "217192  217192   A member of the UWA Cultural Collections Boar...      M   \n",
      "217193  217193   Kelly has worked globally leading teams of co...      F   \n",
      "217194  217194   He's the lead author of a recent study that f...      M   \n",
      "217195  217195   She specializes in the theoretical and pedago...      F   \n",
      "217196  217196   Since she was 10 years old she has become a m...      F   \n",
      "\n",
      "        Category      jobtitle  \\\n",
      "0             19     professor   \n",
      "1              9    accountant   \n",
      "2             19     professor   \n",
      "3             24     architect   \n",
      "4             24     architect   \n",
      "...          ...           ...   \n",
      "217192        19     professor   \n",
      "217193        22  psychologist   \n",
      "217194        19     professor   \n",
      "217195        19     professor   \n",
      "217196         1         model   \n",
      "\n",
      "                                             cleaned_Data  \n",
      "0       also ronald asmus policy entrepreneur fellow g...  \n",
      "1       member aicpa wicpa brent graduated university ...  \n",
      "2       dr aster held teaching research positions ben ...  \n",
      "3       runs boutique design studio attending clients ...  \n",
      "4       focuses cloud security identity access managem...  \n",
      "...                                                   ...  \n",
      "217192  member uwa cultural collections board gary chi...  \n",
      "217193  kelly worked globally leading teams consultant...  \n",
      "217194  hes lead author recent study found hospitaliza...  \n",
      "217195  specializes theoretical pedagogical foundation...  \n",
      "217196  since 10 years old become model later started ...  \n",
      "\n",
      "[217197 rows x 6 columns]\n"
     ]
    }
   ],
   "source": [
    "df = pd.DataFrame(comb_data)\n",
    "\n",
    "print (df)"
   ]
  },
  {
   "cell_type": "code",
   "execution_count": 32,
   "metadata": {},
   "outputs": [
    {
     "name": "stdout",
     "output_type": "stream",
     "text": [
      "            Id                                        description gender  \\\n",
      "0            0   She is also a Ronald D. Asmus Policy Entrepre...      F   \n",
      "1            1   He is a member of the AICPA and WICPA. Brent ...      M   \n",
      "2            2   Dr. Aster has held teaching and research posi...      M   \n",
      "3            3   He runs a boutique design studio attending cl...      M   \n",
      "4            4   He focuses on cloud security, identity and ac...      M   \n",
      "...        ...                                                ...    ...   \n",
      "217192  217192   A member of the UWA Cultural Collections Boar...      M   \n",
      "217193  217193   Kelly has worked globally leading teams of co...      F   \n",
      "217194  217194   He's the lead author of a recent study that f...      M   \n",
      "217195  217195   She specializes in the theoretical and pedago...      F   \n",
      "217196  217196   Since she was 10 years old she has become a m...      F   \n",
      "\n",
      "        Category      jobtitle  \\\n",
      "0             19     professor   \n",
      "1              9    accountant   \n",
      "2             19     professor   \n",
      "3             24     architect   \n",
      "4             24     architect   \n",
      "...          ...           ...   \n",
      "217192        19     professor   \n",
      "217193        22  psychologist   \n",
      "217194        19     professor   \n",
      "217195        19     professor   \n",
      "217196         1         model   \n",
      "\n",
      "                                             cleaned_Data  \n",
      "0       also ronald asmus policy entrepreneur fellow g...  \n",
      "1       member aicpa wicpa brent graduated university ...  \n",
      "2       dr aster held teaching research positions ben ...  \n",
      "3       runs boutique design studio attending clients ...  \n",
      "4       focuses cloud security identity access managem...  \n",
      "...                                                   ...  \n",
      "217192  member uwa cultural collections board gary chi...  \n",
      "217193  kelly worked globally leading teams consultant...  \n",
      "217194  hes lead author recent study found hospitaliza...  \n",
      "217195  specializes theoretical pedagogical foundation...  \n",
      "217196  since 10 years old become model later started ...  \n",
      "\n",
      "[217197 rows x 6 columns]\n"
     ]
    }
   ],
   "source": [
    "df.to_csv (r'PreprocessedData.csv', index = False, header=True)\n",
    "\n",
    "print (df)"
   ]
  },
  {
   "cell_type": "code",
   "execution_count": 33,
   "metadata": {},
   "outputs": [
    {
     "name": "stdout",
     "output_type": "stream",
     "text": [
      "Wall time: 8.17 s\n"
     ]
    }
   ],
   "source": [
    "%%time\n",
    "test_df['cleaned_Data'] = test_df['description'].apply(clean_text)"
   ]
  },
  {
   "cell_type": "code",
   "execution_count": 34,
   "metadata": {},
   "outputs": [],
   "source": [
    "test_df.to_csv (r'PreprocessedDataTest.csv', index = False, header=True)"
   ]
  },
  {
   "cell_type": "code",
   "execution_count": 49,
   "metadata": {},
   "outputs": [
    {
     "name": "stdout",
     "output_type": "stream",
     "text": [
      "coauthor robert n brandon biologys first law tendency diversity complexity increase evolutionary systems university chicago press 2010 coauthor alex rosenberg philosophy biology contemporary introduction routledge 2008 post comment\n",
      "Tag: 84\n"
     ]
    }
   ],
   "source": [
    "print_test(84)"
   ]
  },
  {
   "cell_type": "code",
   "execution_count": 61,
   "metadata": {},
   "outputs": [],
   "source": [
    "X_test = test_df.description"
   ]
  },
  {
   "cell_type": "code",
   "execution_count": 50,
   "metadata": {},
   "outputs": [
    {
     "name": "stdout",
     "output_type": "stream",
     "text": [
      "(217197,)\n",
      "(217197,)\n"
     ]
    }
   ],
   "source": [
    "X = comb_data.description\n",
    "y = comb_data.Category\n",
    "\n",
    "print(X.shape)\n",
    "print(y.shape)"
   ]
  },
  {
   "cell_type": "code",
   "execution_count": 51,
   "metadata": {},
   "outputs": [],
   "source": [
    "X_train, X_valid, y_train ,y_valid = train_test_split(X, y, test_size=0.25, random_state = 1)"
   ]
  },
  {
   "cell_type": "code",
   "execution_count": 56,
   "metadata": {},
   "outputs": [],
   "source": [
    "svm = Pipeline([('vect', CountVectorizer()),\n",
    "                     ('tfidf', TfidfTransformer()),\n",
    "                     ('clf', LinearSVC()),\n",
    "                     ])"
   ]
  },
  {
   "cell_type": "code",
   "execution_count": 57,
   "metadata": {},
   "outputs": [
    {
     "data": {
      "text/plain": [
       "Pipeline(steps=[('vect', CountVectorizer()), ('tfidf', TfidfTransformer()),\n",
       "                ('clf', LinearSVC())])"
      ]
     },
     "execution_count": 57,
     "metadata": {},
     "output_type": "execute_result"
    }
   ],
   "source": [
    "svm.fit(X_train, y_train)"
   ]
  },
  {
   "cell_type": "code",
   "execution_count": 58,
   "metadata": {},
   "outputs": [],
   "source": [
    "predicted = svm.predict(X_valid)"
   ]
  },
  {
   "cell_type": "code",
   "execution_count": 59,
   "metadata": {},
   "outputs": [
    {
     "name": "stdout",
     "output_type": "stream",
     "text": [
      "              precision    recall  f1-score   support\n",
      "\n",
      "           0       0.63      0.57      0.60       361\n",
      "           1       0.77      0.71      0.74      1015\n",
      "           2       0.74      0.67      0.70       248\n",
      "           3       0.57      0.53      0.55      2285\n",
      "           4       0.78      0.70      0.74       194\n",
      "           5       0.76      0.80      0.78      1117\n",
      "           6       0.68      0.73      0.70      3114\n",
      "           7       0.74      0.64      0.69       211\n",
      "           8       0.79      0.71      0.75      1656\n",
      "           9       0.82      0.70      0.75       771\n",
      "          10       0.82      0.64      0.72       214\n",
      "          11       0.72      0.71      0.71      2891\n",
      "          12       0.82      0.72      0.77       421\n",
      "          13       0.71      0.64      0.68      1014\n",
      "          14       0.86      0.81      0.83      3133\n",
      "          15       0.75      0.69      0.72      1148\n",
      "          16       0.93      0.91      0.92      1326\n",
      "          17       0.89      0.58      0.71       348\n",
      "          18       0.79      0.75      0.77      1039\n",
      "          19       0.84      0.90      0.87     17441\n",
      "          20       0.83      0.87      0.85      3699\n",
      "          21       0.86      0.76      0.81       211\n",
      "          22       0.76      0.70      0.73      2568\n",
      "          23       0.86      0.51      0.64       253\n",
      "          24       0.73      0.63      0.68      1499\n",
      "          25       0.80      0.82      0.81       815\n",
      "          26       0.84      0.88      0.86      4743\n",
      "          27       0.81      0.82      0.82       565\n",
      "\n",
      "    accuracy                           0.80     54300\n",
      "   macro avg       0.78      0.72      0.75     54300\n",
      "weighted avg       0.80      0.80      0.80     54300\n",
      "\n"
     ]
    }
   ],
   "source": [
    "print(metrics.classification_report(y_valid, predicted))"
   ]
  },
  {
   "cell_type": "code",
   "execution_count": 60,
   "metadata": {},
   "outputs": [
    {
     "name": "stdout",
     "output_type": "stream",
     "text": [
      "0.7456131929700762\n"
     ]
    }
   ],
   "source": [
    "print(metrics.f1_score(y_valid, predicted,average = 'macro'))"
   ]
  },
  {
   "cell_type": "code",
   "execution_count": 62,
   "metadata": {},
   "outputs": [],
   "source": [
    "prediction = svm.predict(X_test)"
   ]
  },
  {
   "cell_type": "code",
   "execution_count": 63,
   "metadata": {},
   "outputs": [
    {
     "data": {
      "text/plain": [
       "array([ 6, 20, 19, ..., 19, 26, 15], dtype=int64)"
      ]
     },
     "execution_count": 63,
     "metadata": {},
     "output_type": "execute_result"
    }
   ],
   "source": [
    "prediction"
   ]
  },
  {
   "cell_type": "code",
   "execution_count": 64,
   "metadata": {},
   "outputs": [],
   "source": [
    "test_df[\"Category\"] = prediction\n",
    "baseline_file = test_df[[\"Id\",\"Category\"]]\n",
    "baseline_file.to_csv(\"baseline_svm_linear.csv\", index=False)"
   ]
  },
  {
   "cell_type": "code",
   "execution_count": 66,
   "metadata": {},
   "outputs": [
    {
     "data": {
      "text/html": [
       "<div>\n",
       "<style scoped>\n",
       "    .dataframe tbody tr th:only-of-type {\n",
       "        vertical-align: middle;\n",
       "    }\n",
       "\n",
       "    .dataframe tbody tr th {\n",
       "        vertical-align: top;\n",
       "    }\n",
       "\n",
       "    .dataframe thead th {\n",
       "        text-align: right;\n",
       "    }\n",
       "</style>\n",
       "<table border=\"1\" class=\"dataframe\">\n",
       "  <thead>\n",
       "    <tr style=\"text-align: right;\">\n",
       "      <th></th>\n",
       "      <th>Id</th>\n",
       "      <th>Category</th>\n",
       "    </tr>\n",
       "  </thead>\n",
       "  <tbody>\n",
       "    <tr>\n",
       "      <th>0</th>\n",
       "      <td>0</td>\n",
       "      <td>6</td>\n",
       "    </tr>\n",
       "    <tr>\n",
       "      <th>1</th>\n",
       "      <td>1</td>\n",
       "      <td>20</td>\n",
       "    </tr>\n",
       "    <tr>\n",
       "      <th>2</th>\n",
       "      <td>2</td>\n",
       "      <td>22</td>\n",
       "    </tr>\n",
       "    <tr>\n",
       "      <th>3</th>\n",
       "      <td>3</td>\n",
       "      <td>19</td>\n",
       "    </tr>\n",
       "    <tr>\n",
       "      <th>4</th>\n",
       "      <td>4</td>\n",
       "      <td>19</td>\n",
       "    </tr>\n",
       "    <tr>\n",
       "      <th>...</th>\n",
       "      <td>...</td>\n",
       "      <td>...</td>\n",
       "    </tr>\n",
       "    <tr>\n",
       "      <th>54295</th>\n",
       "      <td>54295</td>\n",
       "      <td>19</td>\n",
       "    </tr>\n",
       "    <tr>\n",
       "      <th>54296</th>\n",
       "      <td>54296</td>\n",
       "      <td>19</td>\n",
       "    </tr>\n",
       "    <tr>\n",
       "      <th>54297</th>\n",
       "      <td>54297</td>\n",
       "      <td>19</td>\n",
       "    </tr>\n",
       "    <tr>\n",
       "      <th>54298</th>\n",
       "      <td>54298</td>\n",
       "      <td>26</td>\n",
       "    </tr>\n",
       "    <tr>\n",
       "      <th>54299</th>\n",
       "      <td>54299</td>\n",
       "      <td>15</td>\n",
       "    </tr>\n",
       "  </tbody>\n",
       "</table>\n",
       "<p>54300 rows × 2 columns</p>\n",
       "</div>"
      ],
      "text/plain": [
       "          Id  Category\n",
       "0          0         6\n",
       "1          1        20\n",
       "2          2        22\n",
       "3          3        19\n",
       "4          4        19\n",
       "...      ...       ...\n",
       "54295  54295        19\n",
       "54296  54296        19\n",
       "54297  54297        19\n",
       "54298  54298        26\n",
       "54299  54299        15\n",
       "\n",
       "[54300 rows x 2 columns]"
      ]
     },
     "execution_count": 66,
     "metadata": {},
     "output_type": "execute_result"
    }
   ],
   "source": [
    "submissions = pd.read_csv(\"submission_2_r.csv\")\n",
    "submissions"
   ]
  },
  {
   "cell_type": "code",
   "execution_count": 70,
   "metadata": {},
   "outputs": [
    {
     "name": "stdout",
     "output_type": "stream",
     "text": [
      "(54300,)\n"
     ]
    }
   ],
   "source": [
    "labels = submissions['Category']\n",
    "print(labels.shape)"
   ]
  },
  {
   "cell_type": "code",
   "execution_count": 73,
   "metadata": {},
   "outputs": [
    {
     "name": "stdout",
     "output_type": "stream",
     "text": [
      "0.8398320672605532\n"
     ]
    }
   ],
   "source": [
    "print(metrics.f1_score(prediction,labels,average = 'macro'))"
   ]
  },
  {
   "cell_type": "code",
   "execution_count": null,
   "metadata": {},
   "outputs": [],
   "source": []
  }
 ],
 "metadata": {
  "kernelspec": {
   "display_name": "Python 3",
   "language": "python",
   "name": "python3"
  },
  "language_info": {
   "codemirror_mode": {
    "name": "ipython",
    "version": 3
   },
   "file_extension": ".py",
   "mimetype": "text/x-python",
   "name": "python",
   "nbconvert_exporter": "python",
   "pygments_lexer": "ipython3",
   "version": "3.7.9"
  }
 },
 "nbformat": 4,
 "nbformat_minor": 4
}
