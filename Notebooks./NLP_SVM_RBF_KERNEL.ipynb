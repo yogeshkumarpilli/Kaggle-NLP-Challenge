{
 "cells": [
  {
   "cell_type": "code",
   "execution_count": 20,
   "metadata": {},
   "outputs": [],
   "source": [
    "import pandas as pd\n",
    "import numpy as np\n",
    "import json\n",
    "import re\n",
    "import time\n",
    "from sklearn.feature_extraction.text import CountVectorizer, TfidfVectorizer\n",
    "from sklearn.feature_extraction.text import TfidfTransformer\n",
    "from nltk.corpus import stopwords\n",
    "import re\n",
    "from bs4 import BeautifulSoup\n",
    "from sklearn.svm import SVC\n",
    "from sklearn import metrics\n",
    "from sklearn.model_selection import train_test_split\n",
    "from sklearn.pipeline import Pipeline\n",
    "\n",
    "%matplotlib inline"
   ]
  },
  {
   "cell_type": "code",
   "execution_count": 2,
   "metadata": {},
   "outputs": [
    {
     "data": {
      "text/html": [
       "<div>\n",
       "<style scoped>\n",
       "    .dataframe tbody tr th:only-of-type {\n",
       "        vertical-align: middle;\n",
       "    }\n",
       "\n",
       "    .dataframe tbody tr th {\n",
       "        vertical-align: top;\n",
       "    }\n",
       "\n",
       "    .dataframe thead th {\n",
       "        text-align: right;\n",
       "    }\n",
       "</style>\n",
       "<table border=\"1\" class=\"dataframe\">\n",
       "  <thead>\n",
       "    <tr style=\"text-align: right;\">\n",
       "      <th></th>\n",
       "      <th>Id</th>\n",
       "      <th>description</th>\n",
       "      <th>gender</th>\n",
       "      <th>Category</th>\n",
       "      <th>jobtitle</th>\n",
       "    </tr>\n",
       "  </thead>\n",
       "  <tbody>\n",
       "    <tr>\n",
       "      <th>0</th>\n",
       "      <td>0</td>\n",
       "      <td>She is also a Ronald D. Asmus Policy Entrepre...</td>\n",
       "      <td>F</td>\n",
       "      <td>19</td>\n",
       "      <td>professor</td>\n",
       "    </tr>\n",
       "    <tr>\n",
       "      <th>1</th>\n",
       "      <td>1</td>\n",
       "      <td>He is a member of the AICPA and WICPA. Brent ...</td>\n",
       "      <td>M</td>\n",
       "      <td>9</td>\n",
       "      <td>accountant</td>\n",
       "    </tr>\n",
       "    <tr>\n",
       "      <th>2</th>\n",
       "      <td>2</td>\n",
       "      <td>Dr. Aster has held teaching and research posi...</td>\n",
       "      <td>M</td>\n",
       "      <td>19</td>\n",
       "      <td>professor</td>\n",
       "    </tr>\n",
       "    <tr>\n",
       "      <th>3</th>\n",
       "      <td>3</td>\n",
       "      <td>He runs a boutique design studio attending cl...</td>\n",
       "      <td>M</td>\n",
       "      <td>24</td>\n",
       "      <td>architect</td>\n",
       "    </tr>\n",
       "    <tr>\n",
       "      <th>4</th>\n",
       "      <td>4</td>\n",
       "      <td>He focuses on cloud security, identity and ac...</td>\n",
       "      <td>M</td>\n",
       "      <td>24</td>\n",
       "      <td>architect</td>\n",
       "    </tr>\n",
       "    <tr>\n",
       "      <th>...</th>\n",
       "      <td>...</td>\n",
       "      <td>...</td>\n",
       "      <td>...</td>\n",
       "      <td>...</td>\n",
       "      <td>...</td>\n",
       "    </tr>\n",
       "    <tr>\n",
       "      <th>217192</th>\n",
       "      <td>217192</td>\n",
       "      <td>A member of the UWA Cultural Collections Boar...</td>\n",
       "      <td>M</td>\n",
       "      <td>19</td>\n",
       "      <td>professor</td>\n",
       "    </tr>\n",
       "    <tr>\n",
       "      <th>217193</th>\n",
       "      <td>217193</td>\n",
       "      <td>Kelly has worked globally leading teams of co...</td>\n",
       "      <td>F</td>\n",
       "      <td>22</td>\n",
       "      <td>psychologist</td>\n",
       "    </tr>\n",
       "    <tr>\n",
       "      <th>217194</th>\n",
       "      <td>217194</td>\n",
       "      <td>He's the lead author of a recent study that f...</td>\n",
       "      <td>M</td>\n",
       "      <td>19</td>\n",
       "      <td>professor</td>\n",
       "    </tr>\n",
       "    <tr>\n",
       "      <th>217195</th>\n",
       "      <td>217195</td>\n",
       "      <td>She specializes in the theoretical and pedago...</td>\n",
       "      <td>F</td>\n",
       "      <td>19</td>\n",
       "      <td>professor</td>\n",
       "    </tr>\n",
       "    <tr>\n",
       "      <th>217196</th>\n",
       "      <td>217196</td>\n",
       "      <td>Since she was 10 years old she has become a m...</td>\n",
       "      <td>F</td>\n",
       "      <td>1</td>\n",
       "      <td>model</td>\n",
       "    </tr>\n",
       "  </tbody>\n",
       "</table>\n",
       "<p>217197 rows × 5 columns</p>\n",
       "</div>"
      ],
      "text/plain": [
       "            Id                                        description gender  \\\n",
       "0            0   She is also a Ronald D. Asmus Policy Entrepre...      F   \n",
       "1            1   He is a member of the AICPA and WICPA. Brent ...      M   \n",
       "2            2   Dr. Aster has held teaching and research posi...      M   \n",
       "3            3   He runs a boutique design studio attending cl...      M   \n",
       "4            4   He focuses on cloud security, identity and ac...      M   \n",
       "...        ...                                                ...    ...   \n",
       "217192  217192   A member of the UWA Cultural Collections Boar...      M   \n",
       "217193  217193   Kelly has worked globally leading teams of co...      F   \n",
       "217194  217194   He's the lead author of a recent study that f...      M   \n",
       "217195  217195   She specializes in the theoretical and pedago...      F   \n",
       "217196  217196   Since she was 10 years old she has become a m...      F   \n",
       "\n",
       "        Category      jobtitle  \n",
       "0             19     professor  \n",
       "1              9    accountant  \n",
       "2             19     professor  \n",
       "3             24     architect  \n",
       "4             24     architect  \n",
       "...          ...           ...  \n",
       "217192        19     professor  \n",
       "217193        22  psychologist  \n",
       "217194        19     professor  \n",
       "217195        19     professor  \n",
       "217196         1         model  \n",
       "\n",
       "[217197 rows x 5 columns]"
      ]
     },
     "execution_count": 2,
     "metadata": {},
     "output_type": "execute_result"
    }
   ],
   "source": [
    "labels = pd.read_csv(\"categories_string.csv\")\n",
    "train_label= pd.read_csv('train_label.csv')\n",
    "with open('train.json') as f:\n",
    "   train = json.load(f)\n",
    "with open('test.json') as h:\n",
    "   test = json.load(h)\n",
    "\n",
    "train_df = pd.DataFrame(train)\n",
    "test_df = pd.DataFrame(test)\n",
    "dic = labels.to_dict()\n",
    "dic = dic[\"0\"]\n",
    "train_label['jobtitle'] = train_label['Category']\n",
    "train_label = train_label.replace({\"jobtitle\": dic})\n",
    "comb_data = pd.merge(train_df,train_label,how = \"outer\", on = 'Id' )\n",
    "comb_data"
   ]
  },
  {
   "cell_type": "code",
   "execution_count": 3,
   "metadata": {},
   "outputs": [],
   "source": [
    "sentences = comb_data['description'].tolist()\n",
    "len(sentences)\n",
    "sentences_as_one_string =\" \".join(sentences)"
   ]
  },
  {
   "cell_type": "code",
   "execution_count": 4,
   "metadata": {},
   "outputs": [
    {
     "data": {
      "text/plain": [
       "13504784"
      ]
     },
     "execution_count": 4,
     "metadata": {},
     "output_type": "execute_result"
    }
   ],
   "source": [
    "comb_data['description'].apply(lambda x: len(x.split(' '))).sum()"
   ]
  },
  {
   "cell_type": "code",
   "execution_count": 6,
   "metadata": {},
   "outputs": [],
   "source": [
    "def print_train(index):\n",
    "    example =comb_data[comb_data.index == index][['description', 'Id']].values[0]\n",
    "    if len(example) > 0:\n",
    "        print(example[0])\n",
    "        print('Tag:', example[1])"
   ]
  },
  {
   "cell_type": "code",
   "execution_count": 7,
   "metadata": {},
   "outputs": [
    {
     "name": "stdout",
     "output_type": "stream",
     "text": [
      " An elder in the United Methodist Church, she writes and lectures widely about African-American religion and is treasurer of the Society for the Study of Black Religion. She is an expert on women in the civil rights movement, and she wrote Witnessing and Testifying: Black Women, Religion, and Civil Rights (Augsburg Fortress, 2003). Contact 404-270-5527, RRoss@spelman.edu.\n",
      "Tag: 10\n"
     ]
    }
   ],
   "source": [
    "print_train(10)"
   ]
  },
  {
   "cell_type": "code",
   "execution_count": 8,
   "metadata": {},
   "outputs": [],
   "source": [
    "sentences_test = test_df['description'].tolist()\n",
    "len(sentences_test)\n",
    "sentences_test_as_one_string =\" \".join(sentences)"
   ]
  },
  {
   "cell_type": "code",
   "execution_count": 9,
   "metadata": {},
   "outputs": [],
   "source": [
    "def print_test(Id):\n",
    "    example =test_df[test_df.Id == Id][['description', 'Id']].values[0]\n",
    "    if len(example) > 0:\n",
    "        print(example[0])\n",
    "        print('Tag:', example[1])"
   ]
  },
  {
   "cell_type": "code",
   "execution_count": 10,
   "metadata": {},
   "outputs": [
    {
     "name": "stdout",
     "output_type": "stream",
     "text": [
      " He is coauthor with Robert N. Brandon of Biology’s First Law: The Tendency for Diversity and Complexity to Increase in Evolutionary Systems (University of Chicago Press, 2010) and is coauthor with Alex Rosenberg of Philosophy of Biology: A Contemporary Introduction (Routledge, 2008).» Post Comment\n",
      "Tag: 84\n"
     ]
    }
   ],
   "source": [
    "print_test(84)"
   ]
  },
  {
   "cell_type": "code",
   "execution_count": 12,
   "metadata": {},
   "outputs": [],
   "source": [
    "REPLACE_BY_SPACE_RE = re.compile('[/(){}\\[\\]\\|@,;]')\n",
    "BAD_SYMBOLS_RE = re.compile('[^0-9a-z #+_]')\n",
    "STOPWORDS = set(stopwords.words('english'))\n",
    "\n",
    "def clean_text(text):\n",
    "    \"\"\"\n",
    "        text: a string\n",
    "        \n",
    "        return: modified initial string\n",
    "    \"\"\"\n",
    "    text = BeautifulSoup(text, \"lxml\").text # HTML decoding\n",
    "    text = text.lower() # lowercase text\n",
    "    text = REPLACE_BY_SPACE_RE.sub(' ', text) # replace REPLACE_BY_SPACE_RE symbols by space in text\n",
    "    text = BAD_SYMBOLS_RE.sub('', text) # delete symbols which are in BAD_SYMBOLS_RE from text\n",
    "    text = ' '.join(word for word in text.split() if word not in STOPWORDS) # delete stopwors from text\n",
    "    return text"
   ]
  },
  {
   "cell_type": "code",
   "execution_count": 13,
   "metadata": {},
   "outputs": [
    {
     "name": "stdout",
     "output_type": "stream",
     "text": [
      "Wall time: 34.1 s\n"
     ]
    }
   ],
   "source": [
    "%%time\n",
    "comb_data['description'] = comb_data['description'].apply(clean_text)"
   ]
  },
  {
   "cell_type": "code",
   "execution_count": 14,
   "metadata": {},
   "outputs": [
    {
     "name": "stdout",
     "output_type": "stream",
     "text": [
      "elder united methodist church writes lectures widely africanamerican religion treasurer society study black religion expert women civil rights movement wrote witnessing testifying black women religion civil rights augsburg fortress 2003 contact 4042705527 rross spelmanedu\n",
      "Tag: 10\n"
     ]
    }
   ],
   "source": [
    "print_train(10)"
   ]
  },
  {
   "cell_type": "code",
   "execution_count": 15,
   "metadata": {},
   "outputs": [
    {
     "name": "stdout",
     "output_type": "stream",
     "text": [
      "Wall time: 8.39 s\n"
     ]
    }
   ],
   "source": [
    "%%time\n",
    "test_df['description'] = test_df['description'].apply(clean_text)"
   ]
  },
  {
   "cell_type": "code",
   "execution_count": 16,
   "metadata": {},
   "outputs": [
    {
     "name": "stdout",
     "output_type": "stream",
     "text": [
      "coauthor robert n brandon biologys first law tendency diversity complexity increase evolutionary systems university chicago press 2010 coauthor alex rosenberg philosophy biology contemporary introduction routledge 2008 post comment\n",
      "Tag: 84\n"
     ]
    }
   ],
   "source": [
    "print_test(84)"
   ]
  },
  {
   "cell_type": "code",
   "execution_count": 17,
   "metadata": {},
   "outputs": [
    {
     "name": "stdout",
     "output_type": "stream",
     "text": [
      "(217197,)\n",
      "(217197,)\n",
      "(54300,)\n"
     ]
    }
   ],
   "source": [
    "X_test = test_df.description\n",
    "X = comb_data.description\n",
    "y = comb_data.Category\n",
    "\n",
    "print(X.shape)\n",
    "print(y.shape)\n",
    "print(X_test.shape)"
   ]
  },
  {
   "cell_type": "code",
   "execution_count": 18,
   "metadata": {},
   "outputs": [],
   "source": [
    "X_train, X_valid, y_train ,y_valid = train_test_split(X, y, test_size=0.25, random_state = 1)"
   ]
  },
  {
   "cell_type": "code",
   "execution_count": 21,
   "metadata": {},
   "outputs": [
    {
     "name": "stdout",
     "output_type": "stream",
     "text": [
      "(162897,)\n",
      "(162897,)\n",
      "(54300,)\n",
      "(54300,)\n"
     ]
    }
   ],
   "source": [
    "print(X_train.shape)\n",
    "print(y_train.shape)\n",
    "print(X_valid.shape)\n",
    "print(y_valid.shape)"
   ]
  },
  {
   "cell_type": "code",
   "execution_count": 24,
   "metadata": {},
   "outputs": [],
   "source": [
    "svm_rbf = Pipeline([('vect', CountVectorizer()),\n",
    "                     ('tfidf', TfidfTransformer()),\n",
    "                     ('clf', SVC(kernel='rbf',C= 1.0, gamma = 0.1)),\n",
    "                     ])"
   ]
  },
  {
   "cell_type": "code",
   "execution_count": 25,
   "metadata": {},
   "outputs": [
    {
     "data": {
      "text/plain": [
       "Pipeline(memory=None,\n",
       "         steps=[('vect',\n",
       "                 CountVectorizer(analyzer='word', binary=False,\n",
       "                                 decode_error='strict',\n",
       "                                 dtype=<class 'numpy.int64'>, encoding='utf-8',\n",
       "                                 input='content', lowercase=True, max_df=1.0,\n",
       "                                 max_features=None, min_df=1,\n",
       "                                 ngram_range=(1, 1), preprocessor=None,\n",
       "                                 stop_words=None, strip_accents=None,\n",
       "                                 token_pattern='(?u)\\\\b\\\\w\\\\w+\\\\b',\n",
       "                                 tokenizer=None, vocabulary=None)),\n",
       "                ('tfidf',\n",
       "                 TfidfTransformer(norm='l2', smooth_idf=True,\n",
       "                                  sublinear_tf=False, use_idf=True)),\n",
       "                ('clf',\n",
       "                 SVC(C=1.0, break_ties=False, cache_size=200, class_weight=None,\n",
       "                     coef0=0.0, decision_function_shape='ovr', degree=3,\n",
       "                     gamma=0.1, kernel='rbf', max_iter=-1, probability=False,\n",
       "                     random_state=None, shrinking=True, tol=0.001,\n",
       "                     verbose=False))],\n",
       "         verbose=False)"
      ]
     },
     "execution_count": 25,
     "metadata": {},
     "output_type": "execute_result"
    }
   ],
   "source": [
    "svm_rbf.fit(X_train, y_train)"
   ]
  },
  {
   "cell_type": "code",
   "execution_count": 28,
   "metadata": {},
   "outputs": [],
   "source": [
    "predicted = svm_rbf.predict(X_valid)"
   ]
  },
  {
   "cell_type": "code",
   "execution_count": 29,
   "metadata": {},
   "outputs": [
    {
     "name": "stdout",
     "output_type": "stream",
     "text": [
      "              precision    recall  f1-score   support\n",
      "\n",
      "           0       0.62      0.37      0.46       361\n",
      "           1       0.92      0.60      0.73      1015\n",
      "           2       0.71      0.71      0.71       248\n",
      "           3       0.55      0.50      0.52      2285\n",
      "           4       0.82      0.50      0.62       194\n",
      "           5       0.81      0.71      0.76      1117\n",
      "           6       0.56      0.75      0.64      3114\n",
      "           7       0.85      0.39      0.53       211\n",
      "           8       0.85      0.66      0.74      1656\n",
      "           9       0.88      0.58      0.70       771\n",
      "          10       0.91      0.36      0.52       214\n",
      "          11       0.72      0.68      0.70      2891\n",
      "          12       0.88      0.57      0.69       421\n",
      "          13       0.73      0.57      0.64      1014\n",
      "          14       0.94      0.74      0.82      3133\n",
      "          15       0.76      0.64      0.70      1148\n",
      "          16       0.93      0.87      0.90      1326\n",
      "          17       0.93      0.51      0.66       348\n",
      "          18       0.78      0.72      0.75      1039\n",
      "          19       0.74      0.91      0.81     17441\n",
      "          20       0.83      0.86      0.84      3699\n",
      "          21       0.96      0.33      0.49       211\n",
      "          22       0.84      0.61      0.71      2568\n",
      "          23       0.92      0.28      0.43       253\n",
      "          24       0.77      0.52      0.62      1499\n",
      "          25       0.76      0.76      0.76       815\n",
      "          26       0.87      0.85      0.86      4743\n",
      "          27       0.82      0.71      0.76       565\n",
      "\n",
      "    accuracy                           0.76     54300\n",
      "   macro avg       0.81      0.62      0.68     54300\n",
      "weighted avg       0.78      0.76      0.76     54300\n",
      "\n"
     ]
    }
   ],
   "source": [
    "print(metrics.classification_report(y_valid, predicted))"
   ]
  },
  {
   "cell_type": "code",
   "execution_count": 30,
   "metadata": {},
   "outputs": [
    {
     "name": "stdout",
     "output_type": "stream",
     "text": [
      "0.6810253212823848\n"
     ]
    }
   ],
   "source": [
    "print(metrics.f1_score(y_valid, predicted,average = 'macro'))"
   ]
  },
  {
   "cell_type": "code",
   "execution_count": 31,
   "metadata": {},
   "outputs": [
    {
     "ename": "AttributeError",
     "evalue": "module 'sklearn.svm' has no attribute 'predict'",
     "output_type": "error",
     "traceback": [
      "\u001b[1;31m---------------------------------------------------------------------------\u001b[0m",
      "\u001b[1;31mAttributeError\u001b[0m                            Traceback (most recent call last)",
      "\u001b[1;32m<ipython-input-31-feba328db1c7>\u001b[0m in \u001b[0;36m<module>\u001b[1;34m\u001b[0m\n\u001b[1;32m----> 1\u001b[1;33m \u001b[0mprediction\u001b[0m \u001b[1;33m=\u001b[0m \u001b[0msvm\u001b[0m\u001b[1;33m.\u001b[0m\u001b[0mpredict\u001b[0m\u001b[1;33m(\u001b[0m\u001b[0mX_test\u001b[0m\u001b[1;33m)\u001b[0m\u001b[1;33m\u001b[0m\u001b[1;33m\u001b[0m\u001b[0m\n\u001b[0m",
      "\u001b[1;31mAttributeError\u001b[0m: module 'sklearn.svm' has no attribute 'predict'"
     ]
    }
   ],
   "source": [
    "prediction = svm.predict(X_test)"
   ]
  },
  {
   "cell_type": "code",
   "execution_count": null,
   "metadata": {},
   "outputs": [],
   "source": [
    "prediction"
   ]
  },
  {
   "cell_type": "code",
   "execution_count": null,
   "metadata": {},
   "outputs": [],
   "source": [
    "test_df[\"Category\"] = prediction\n",
    "baseline_file = test_df[[\"Id\",\"Category\"]]\n",
    "baseline_file.to_csv(\"baseline_svm_rbf.csv\", index=False)"
   ]
  },
  {
   "cell_type": "code",
   "execution_count": null,
   "metadata": {},
   "outputs": [],
   "source": []
  },
  {
   "cell_type": "code",
   "execution_count": null,
   "metadata": {},
   "outputs": [],
   "source": []
  },
  {
   "cell_type": "code",
   "execution_count": null,
   "metadata": {},
   "outputs": [],
   "source": []
  },
  {
   "cell_type": "code",
   "execution_count": null,
   "metadata": {},
   "outputs": [],
   "source": []
  },
  {
   "cell_type": "code",
   "execution_count": null,
   "metadata": {},
   "outputs": [],
   "source": []
  }
 ],
 "metadata": {
  "kernelspec": {
   "display_name": "Python [conda env:root]",
   "language": "python",
   "name": "conda-root-py"
  },
  "language_info": {
   "codemirror_mode": {
    "name": "ipython",
    "version": 3
   },
   "file_extension": ".py",
   "mimetype": "text/x-python",
   "name": "python",
   "nbconvert_exporter": "python",
   "pygments_lexer": "ipython3",
   "version": "3.7.6"
  }
 },
 "nbformat": 4,
 "nbformat_minor": 4
}
